{
 "cells": [
  {
   "cell_type": "code",
   "execution_count": null,
   "metadata": {},
   "outputs": [],
   "source": [
    "! pip install pandas\n",
    "! pip install boto3\n",
    "! pip install watchtower\n",
    "! pip install s3fs==0.4.2\n",
    "! pip install pyathena\n",
    "! pip install matplotlib\n",
    "! pip install scipy\n",
    "! pip install ipywidgets\n",
    "! pip install scikit-learn\n",
    "\n",
    "! conda install -c conda-forge --yes implicit \n",
    "\n",
    "! pip install --upgrade jupyter_client # useful to make ipywidgets work properly when fitting data with implicit\n",
    "\n",
    "# pip install git+https://gitlab.com/cloena/cloena-aws-tools.git"
   ]
  },
  {
   "cell_type": "code",
   "execution_count": 1,
   "metadata": {},
   "outputs": [
    {
     "name": "stderr",
     "output_type": "stream",
     "text": [
      "/home/ec2-user/anaconda3/envs/python3/lib/python3.6/site-packages/aws_tools/project_config.py:18: UserWarning: no aws_config.json file found\n",
      "  warnings.warn('no aws_config.json file found')\n"
     ]
    }
   ],
   "source": [
    "import pandas as pd\n",
    "\n",
    "import implicit\n",
    "\n",
    "from aws_tools import athena_tools, s3_tools\n",
    "\n",
    "import matplotlib\n",
    "\n",
    "import re\n",
    "\n",
    "import scipy\n",
    "\n",
    "from ipywidgets import FloatProgress\n",
    "\n",
    "import numpy as np\n",
    "\n",
    "from sklearn.preprocessing import MinMaxScaler"
   ]
  },
  {
   "cell_type": "code",
   "execution_count": 17,
   "metadata": {},
   "outputs": [],
   "source": [
    "_v = '_v0.2'"
   ]
  },
  {
   "cell_type": "code",
   "execution_count": 3,
   "metadata": {},
   "outputs": [
    {
     "name": "stderr",
     "output_type": "stream",
     "text": [
      "2020-06-24 14:10:19,651 [INFO ]  starting Athena query ...\n",
      "2020-06-24 14:15:48,493 [INFO ]  loading 0224f14d-1f01-4765-bd6f-ef243ea7111c.csv\n",
      "2020-06-24 14:20:04,599 [INFO ]  Athena query complete: returning dataframe\n"
     ]
    }
   ],
   "source": [
    "query = \"\"\"\n",
    "SELECT\n",
    "    LINE_ACCOUNT_ID AS ID_USER -- account ID\n",
    "    ,EVENT_SLOT_TYPE AS TYPE_SLOT -- Feature 62M, Trailer2M, Promo 114, Promotion 6M\n",
    "    ,CI_ASSET_TITLE AS TITLE -- human readable title name\n",
    "    ,CI_ASSET_TYPE AS TYPE_ASSET -- e.g. Film, Music, etc.\n",
    "    ,VIEW_TIME_ST AS VIEW_DATE -- time of purchase\n",
    "    ,EDITORIAL_VERSION_ID AS ID_EDITORIAL -- identifies multiple instances of same film/season/episode, e.g. rent/purchase & SD/HD\n",
    "FROM\n",
    "    bt_home_datamart.l_edw_vod_views;\n",
    "\"\"\"\n",
    "\n",
    "# WHERE (ENTITLEMENT_TYPE LIKE 'EVOD' OR ENTITLEMENT_TYPE LIKE 'TVOD') -- can be used to exclude PPV, but better to include it and then remove anything no longer available from the catalogue\n",
    "\n",
    "data = athena_tools.AthenaQuerier().execute_query(query=query)"
   ]
  },
  {
   "cell_type": "code",
   "execution_count": 4,
   "metadata": {},
   "outputs": [],
   "source": [
    "# keep data is only Feature to exclude what is traler/promot/promotion\n",
    "data = data[data['TYPE_SLOT'] == 'Feature']"
   ]
  },
  {
   "cell_type": "code",
   "execution_count": 6,
   "metadata": {},
   "outputs": [],
   "source": [
    "# Drop any nan users or editorial ids\n",
    "data = data[(~data['ID_USER'].isnull()) & (~data['ID_EDITORIAL'].isnull())]"
   ]
  },
  {
   "cell_type": "code",
   "execution_count": 7,
   "metadata": {},
   "outputs": [
    {
     "name": "stderr",
     "output_type": "stream",
     "text": [
      "2020-06-24 14:24:41,866 [INFO ]  starting Athena query ...\n",
      "2020-06-24 14:24:51,244 [INFO ]  loading 2d9f40ca-63cc-4d0b-b655-797edebd5eca.csv\n",
      "2020-06-24 14:24:52,061 [INFO ]  Athena query complete: returning dataframe\n"
     ]
    }
   ],
   "source": [
    "# need a temporary table to bring from the product catalogue the ID_PRODUCT to the views list by matching on ID_EDITORIAL\n",
    "query = \"\"\"\n",
    "SELECT\n",
    "    PRODUCT_GUID AS ID_PRODUCT -- item ID\n",
    "    ,EDITORIAL_VERSION_ID AS ID_EDITORIAL -- identifies multiple instances of same film/season/episode, e.g. rent/purchase & SD/HD\n",
    "    ,CI_PARENTGUID AS ID_PARENT -- if present, can connect episode to season by matching with season PRODUCT_ID\n",
    "FROM\n",
    "    bt_home_datamart.l_edw_vod_products;\n",
    "\"\"\"\n",
    "\n",
    "tmp = athena_tools.AthenaQuerier().execute_query(query=query)\n",
    "\n",
    "data = data.merge(tmp.drop_duplicates('ID_EDITORIAL'), left_on='ID_EDITORIAL', right_on='ID_EDITORIAL', suffixes=('', ''))\n",
    "\n",
    "del tmp"
   ]
  },
  {
   "cell_type": "code",
   "execution_count": 8,
   "metadata": {},
   "outputs": [
    {
     "name": "stderr",
     "output_type": "stream",
     "text": [
      "2020-06-24 14:26:38,128 [INFO ]  starting Athena query ...\n",
      "2020-06-24 14:26:49,568 [INFO ]  loading eee67f9c-be72-4f80-9dab-293490c85baa.csv\n",
      "2020-06-24 14:26:51,803 [INFO ]  Athena query complete: returning dataframe\n"
     ]
    }
   ],
   "source": [
    "query = \"\"\"\n",
    "SELECT\n",
    "    PRODUCT_GUID AS ID_PRODUCT -- item ID\n",
    "    ,CI_TITLE AS TITLE --  human readable title\n",
    "    ,CI_TYPE AS TYPE -- type, like film/music/episode/season/collection\n",
    "    ,CI_AVAILABLE_END_DT AS END_DATE -- date until availability of item\n",
    "    ,EDITORIAL_VERSION_ID AS ID_EDITORIAL -- identifies multiple instances of same film/season/episode, e.g. rent/purchase & SD/HD\n",
    "    ,CI_PARENTGUID AS ID_PARENT -- if present, can connect episode to season by matching with season PRODUCT_ID\n",
    "    ,GENRE \n",
    "    ,RATING\n",
    "FROM\n",
    "    bt_home_datamart.l_edw_vod_products;\n",
    "\"\"\"\n",
    "\n",
    "cat = athena_tools.AthenaQuerier().execute_query(query=query)"
   ]
  },
  {
   "cell_type": "code",
   "execution_count": 9,
   "metadata": {},
   "outputs": [
    {
     "name": "stdout",
     "output_type": "stream",
     "text": [
      "        ID_USER TYPE_SLOT                                              TITLE  \\\n",
      "0  BBEU35442404   Feature  Deadliest Catch (Specials) S15-E20 Time And Ti...   \n",
      "1  BBEU32222677   Feature  Deadliest Catch (Specials) S15-E20 Time And Ti...   \n",
      "2  BBEU23135596   Feature  Deadliest Catch (Specials) S15-E20 Time And Ti...   \n",
      "3  BBEU25732041   Feature  Deadliest Catch (Specials) S15-E20 Time And Ti...   \n",
      "4  BBEU31947617   Feature  Deadliest Catch (Specials) S15-E20 Time And Ti...   \n",
      "\n",
      "  TYPE_ASSET           VIEW_DATE ID_EDITORIAL ID_PRODUCT           ID_PARENT  \n",
      "0    episode 2019-09-27 19:44:41  BBJ2311169A    8565378  movida_10051693_HD  \n",
      "1    episode 2019-09-29 14:20:35  BBJ2311169A    8565378  movida_10051693_HD  \n",
      "2    episode 2019-09-29 23:11:18  BBJ2311169A    8565378  movida_10051693_HD  \n",
      "3    episode 2019-09-29 15:34:33  BBJ2311169A    8565378  movida_10051693_HD  \n",
      "4    episode 2019-09-29 07:02:53  BBJ2311169A    8565378  movida_10051693_HD  \n",
      "            ID_PRODUCT                                    TITLE     TYPE  \\\n",
      "0         movida_56867                   The Americans Series 2   season   \n",
      "1           BBJ916615A  The Americans S2-E6 Behind the Red Door  episode   \n",
      "2   BMG000011428_RL1_B       Justin Timberlake - Cry Me A River    music   \n",
      "3  EMI000012147_UNI1_B                    Love Is A Battlefield    music   \n",
      "4  EMI000026654_UNI1_B                Genesis - Invisible Touch    music   \n",
      "\n",
      "             END_DATE   ID_EDITORIAL     ID_PARENT  GENRE RATING  \n",
      "0 2025-12-31 23:59:00   movida_56867           NaN  Drama     15  \n",
      "1 2025-12-31 23:59:00  BBJ916602HVOD  movida_56868  Drama     15  \n",
      "2 2022-12-30 23:59:00   BBJ90425HVOD  movida_58125    Pop     pg  \n",
      "3 2023-03-30 22:59:00   BBJ88565HVOD  movida_46802    Pop      u  \n",
      "4 2023-03-30 22:59:00  BBJ114673HVOD  movida_46802    Pop      u  \n"
     ]
    }
   ],
   "source": [
    "print(data.head())\n",
    "print(cat.head())"
   ]
  },
  {
   "cell_type": "code",
   "execution_count": 10,
   "metadata": {},
   "outputs": [
    {
     "name": "stdout",
     "output_type": "stream",
     "text": [
      "(56706624, 8)\n",
      "(447552, 8)\n"
     ]
    }
   ],
   "source": [
    "print(data.shape)\n",
    "print(cat.shape)"
   ]
  },
  {
   "cell_type": "code",
   "execution_count": 11,
   "metadata": {},
   "outputs": [],
   "source": [
    "# Left join the parent id in data with the product id from the catalogue dataframe\n",
    "# By joining something that has a parent with the parent effectively connects episodes to the seasons (once we have bran info, we will perform that extra join step)\n",
    "# we then fill the empty cells of editorial versions (those that are not seasons) with the same editorial data so that we have a single column with editorial id for each purchase/rental\n",
    "\n",
    "# first we fill any empty PARENT_GUID with PRODUCT_ID to make the merge fully work below\n",
    "data['ID_PARENT'].fillna(data['ID_PRODUCT'], inplace=True)\n",
    "\n",
    "data = data.merge(cat, left_on='ID_PARENT', right_on='ID_PRODUCT', suffixes=('_data', ''))\n",
    "\n",
    "del cat\n",
    "\n",
    "# From here for editorial we will look at the cat version as it will have the editorial ID of the season\n",
    "# Drop duplicate or obsolete columns\n",
    "data.drop(columns=['ID_PRODUCT_data', 'TITLE_data', 'ID_EDITORIAL_data', 'ID_PARENT_data', 'ID_PRODUCT', 'ID_PARENT'], inplace=True)\n",
    "\n",
    "# we don't drop items that have an END_DATE in the past because we want to create the model, but will need to set those as zero to make sure we do not recommend anything that is not available anymore"
   ]
  },
  {
   "cell_type": "code",
   "execution_count": 14,
   "metadata": {},
   "outputs": [
    {
     "name": "stdout",
     "output_type": "stream",
     "text": [
      "(56716699, 10)\n"
     ]
    },
    {
     "data": {
      "text/html": [
       "<div>\n",
       "<style scoped>\n",
       "    .dataframe tbody tr th:only-of-type {\n",
       "        vertical-align: middle;\n",
       "    }\n",
       "\n",
       "    .dataframe tbody tr th {\n",
       "        vertical-align: top;\n",
       "    }\n",
       "\n",
       "    .dataframe thead th {\n",
       "        text-align: right;\n",
       "    }\n",
       "</style>\n",
       "<table border=\"1\" class=\"dataframe\">\n",
       "  <thead>\n",
       "    <tr style=\"text-align: right;\">\n",
       "      <th></th>\n",
       "      <th>ID_USER</th>\n",
       "      <th>TYPE_SLOT</th>\n",
       "      <th>TYPE_ASSET</th>\n",
       "      <th>VIEW_DATE</th>\n",
       "      <th>TITLE</th>\n",
       "      <th>TYPE</th>\n",
       "      <th>END_DATE</th>\n",
       "      <th>ID_EDITORIAL</th>\n",
       "      <th>GENRE</th>\n",
       "      <th>RATING</th>\n",
       "    </tr>\n",
       "  </thead>\n",
       "  <tbody>\n",
       "    <tr>\n",
       "      <th>56023141</th>\n",
       "      <td>BBEU37258276</td>\n",
       "      <td>Feature</td>\n",
       "      <td>episode</td>\n",
       "      <td>2020-06-22 23:59:46</td>\n",
       "      <td>Families Of The Mafia Series 1</td>\n",
       "      <td>season</td>\n",
       "      <td>2020-07-18 22:59:00</td>\n",
       "      <td>movida_10081516</td>\n",
       "      <td>Reality</td>\n",
       "      <td>15</td>\n",
       "    </tr>\n",
       "    <tr>\n",
       "      <th>55307106</th>\n",
       "      <td>BBEU28779867</td>\n",
       "      <td>Feature</td>\n",
       "      <td>episode</td>\n",
       "      <td>2020-06-22 23:59:44</td>\n",
       "      <td>Dispatches From Elsewhere Series 1</td>\n",
       "      <td>season</td>\n",
       "      <td>2020-07-23 22:59:00</td>\n",
       "      <td>movida_10079820</td>\n",
       "      <td>Drama</td>\n",
       "      <td>18</td>\n",
       "    </tr>\n",
       "    <tr>\n",
       "      <th>11725323</th>\n",
       "      <td>BBEU21999981</td>\n",
       "      <td>Feature</td>\n",
       "      <td>episode</td>\n",
       "      <td>2020-06-22 23:59:43</td>\n",
       "      <td>Peppa Pig Series 3</td>\n",
       "      <td>season</td>\n",
       "      <td>2020-10-31 23:59:00</td>\n",
       "      <td>movida_26616</td>\n",
       "      <td>2 - 5 Years</td>\n",
       "      <td>u</td>\n",
       "    </tr>\n",
       "    <tr>\n",
       "      <th>56606796</th>\n",
       "      <td>BBEU03372506</td>\n",
       "      <td>Feature</td>\n",
       "      <td>episode</td>\n",
       "      <td>2020-06-22 23:59:42</td>\n",
       "      <td>Blaydes v Volkov</td>\n",
       "      <td>collection</td>\n",
       "      <td>2020-06-26 22:30:00</td>\n",
       "      <td>movida_10084415</td>\n",
       "      <td>UFC</td>\n",
       "      <td>18</td>\n",
       "    </tr>\n",
       "    <tr>\n",
       "      <th>55260706</th>\n",
       "      <td>BBEU19739058</td>\n",
       "      <td>Feature</td>\n",
       "      <td>episode</td>\n",
       "      <td>2020-06-22 23:59:42</td>\n",
       "      <td>Secrets In The Ice Series 1</td>\n",
       "      <td>season</td>\n",
       "      <td>2020-07-15 21:30:00</td>\n",
       "      <td>movida_10082966</td>\n",
       "      <td>Documentary</td>\n",
       "      <td>pg</td>\n",
       "    </tr>\n",
       "  </tbody>\n",
       "</table>\n",
       "</div>"
      ],
      "text/plain": [
       "               ID_USER TYPE_SLOT TYPE_ASSET           VIEW_DATE  \\\n",
       "56023141  BBEU37258276   Feature    episode 2020-06-22 23:59:46   \n",
       "55307106  BBEU28779867   Feature    episode 2020-06-22 23:59:44   \n",
       "11725323  BBEU21999981   Feature    episode 2020-06-22 23:59:43   \n",
       "56606796  BBEU03372506   Feature    episode 2020-06-22 23:59:42   \n",
       "55260706  BBEU19739058   Feature    episode 2020-06-22 23:59:42   \n",
       "\n",
       "                                       TITLE        TYPE            END_DATE  \\\n",
       "56023141      Families Of The Mafia Series 1      season 2020-07-18 22:59:00   \n",
       "55307106  Dispatches From Elsewhere Series 1      season 2020-07-23 22:59:00   \n",
       "11725323                  Peppa Pig Series 3      season 2020-10-31 23:59:00   \n",
       "56606796                    Blaydes v Volkov  collection 2020-06-26 22:30:00   \n",
       "55260706         Secrets In The Ice Series 1      season 2020-07-15 21:30:00   \n",
       "\n",
       "             ID_EDITORIAL        GENRE RATING  \n",
       "56023141  movida_10081516      Reality     15  \n",
       "55307106  movida_10079820        Drama     18  \n",
       "11725323     movida_26616  2 - 5 Years      u  \n",
       "56606796  movida_10084415          UFC     18  \n",
       "55260706  movida_10082966  Documentary     pg  "
      ]
     },
     "execution_count": 14,
     "metadata": {},
     "output_type": "execute_result"
    }
   ],
   "source": [
    "print(data.shape) \n",
    "data.sort_values(by='VIEW_DATE', ascending=False).head()"
   ]
  },
  {
   "cell_type": "code",
   "execution_count": 15,
   "metadata": {},
   "outputs": [
    {
     "data": {
      "text/plain": [
       "u     30718766\n",
       "15    10716608\n",
       "pg     6524057\n",
       "18     5359151\n",
       "12     3387443\n",
       "Name: RATING, dtype: int64"
      ]
     },
     "execution_count": 15,
     "metadata": {},
     "output_type": "execute_result"
    }
   ],
   "source": [
    "data['RATING'].value_counts()"
   ]
  },
  {
   "cell_type": "code",
   "execution_count": 16,
   "metadata": {},
   "outputs": [],
   "source": [
    "# Drop any nan users or editorial ids\n",
    "data = data[(~data['ID_USER'].isnull()) & (~data['ID_EDITORIAL'].isnull())]"
   ]
  },
  {
   "cell_type": "code",
   "execution_count": 18,
   "metadata": {},
   "outputs": [],
   "source": [
    "data.to_csv('s3://bt-data-science-playground/bt-tv-recommendation-system/model_objects/historicalviews'+_v+'.csv', index=False)"
   ]
  },
  {
   "cell_type": "code",
   "execution_count": null,
   "metadata": {},
   "outputs": [],
   "source": []
  }
 ],
 "metadata": {
  "kernelspec": {
   "display_name": "conda_python3",
   "language": "python",
   "name": "conda_python3"
  },
  "language_info": {
   "codemirror_mode": {
    "name": "ipython",
    "version": 3
   },
   "file_extension": ".py",
   "mimetype": "text/x-python",
   "name": "python",
   "nbconvert_exporter": "python",
   "pygments_lexer": "ipython3",
   "version": "3.6.10"
  }
 },
 "nbformat": 4,
 "nbformat_minor": 4
}
