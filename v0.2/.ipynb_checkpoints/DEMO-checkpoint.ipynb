{
 "cells": [
  {
   "cell_type": "code",
   "execution_count": 1,
   "metadata": {
    "collapsed": true,
    "jupyter": {
     "outputs_hidden": true
    }
   },
   "outputs": [
    {
     "name": "stdout",
     "output_type": "stream",
     "text": [
      "Requirement already satisfied: pandas in /home/ec2-user/anaconda3/envs/pg/lib/python3.8/site-packages (1.1.0)\n",
      "Requirement already satisfied: pytz>=2017.2 in /home/ec2-user/anaconda3/envs/pg/lib/python3.8/site-packages (from pandas) (2020.1)\n",
      "Requirement already satisfied: numpy>=1.15.4 in /home/ec2-user/anaconda3/envs/pg/lib/python3.8/site-packages (from pandas) (1.19.1)\n",
      "Requirement already satisfied: python-dateutil>=2.7.3 in /home/ec2-user/anaconda3/envs/pg/lib/python3.8/site-packages (from pandas) (2.8.1)\n",
      "Requirement already satisfied: six>=1.5 in /home/ec2-user/anaconda3/envs/pg/lib/python3.8/site-packages (from python-dateutil>=2.7.3->pandas) (1.15.0)\n",
      "Requirement already satisfied: boto3 in /home/ec2-user/anaconda3/envs/pg/lib/python3.8/site-packages (1.14.46)\n",
      "Requirement already satisfied: jmespath<1.0.0,>=0.7.1 in /home/ec2-user/anaconda3/envs/pg/lib/python3.8/site-packages (from boto3) (0.10.0)\n",
      "Requirement already satisfied: botocore<1.18.0,>=1.17.46 in /home/ec2-user/anaconda3/envs/pg/lib/python3.8/site-packages (from boto3) (1.17.46)\n",
      "Requirement already satisfied: s3transfer<0.4.0,>=0.3.0 in /home/ec2-user/anaconda3/envs/pg/lib/python3.8/site-packages (from boto3) (0.3.3)\n",
      "Requirement already satisfied: urllib3<1.26,>=1.20; python_version != \"3.4\" in /home/ec2-user/anaconda3/envs/pg/lib/python3.8/site-packages (from botocore<1.18.0,>=1.17.46->boto3) (1.25.10)\n",
      "Requirement already satisfied: docutils<0.16,>=0.10 in /home/ec2-user/anaconda3/envs/pg/lib/python3.8/site-packages (from botocore<1.18.0,>=1.17.46->boto3) (0.15.2)\n",
      "Requirement already satisfied: python-dateutil<3.0.0,>=2.1 in /home/ec2-user/anaconda3/envs/pg/lib/python3.8/site-packages (from botocore<1.18.0,>=1.17.46->boto3) (2.8.1)\n",
      "Requirement already satisfied: six>=1.5 in /home/ec2-user/anaconda3/envs/pg/lib/python3.8/site-packages (from python-dateutil<3.0.0,>=2.1->botocore<1.18.0,>=1.17.46->boto3) (1.15.0)\n",
      "Requirement already satisfied: watchtower in /home/ec2-user/anaconda3/envs/pg/lib/python3.8/site-packages (0.8.0)\n",
      "Requirement already satisfied: boto3<2,>=1.9.253 in /home/ec2-user/anaconda3/envs/pg/lib/python3.8/site-packages (from watchtower) (1.14.46)\n",
      "Requirement already satisfied: s3transfer<0.4.0,>=0.3.0 in /home/ec2-user/anaconda3/envs/pg/lib/python3.8/site-packages (from boto3<2,>=1.9.253->watchtower) (0.3.3)\n",
      "Requirement already satisfied: jmespath<1.0.0,>=0.7.1 in /home/ec2-user/anaconda3/envs/pg/lib/python3.8/site-packages (from boto3<2,>=1.9.253->watchtower) (0.10.0)\n",
      "Requirement already satisfied: botocore<1.18.0,>=1.17.46 in /home/ec2-user/anaconda3/envs/pg/lib/python3.8/site-packages (from boto3<2,>=1.9.253->watchtower) (1.17.46)\n",
      "Requirement already satisfied: python-dateutil<3.0.0,>=2.1 in /home/ec2-user/anaconda3/envs/pg/lib/python3.8/site-packages (from botocore<1.18.0,>=1.17.46->boto3<2,>=1.9.253->watchtower) (2.8.1)\n",
      "Requirement already satisfied: urllib3<1.26,>=1.20; python_version != \"3.4\" in /home/ec2-user/anaconda3/envs/pg/lib/python3.8/site-packages (from botocore<1.18.0,>=1.17.46->boto3<2,>=1.9.253->watchtower) (1.25.10)\n",
      "Requirement already satisfied: docutils<0.16,>=0.10 in /home/ec2-user/anaconda3/envs/pg/lib/python3.8/site-packages (from botocore<1.18.0,>=1.17.46->boto3<2,>=1.9.253->watchtower) (0.15.2)\n",
      "Requirement already satisfied: six>=1.5 in /home/ec2-user/anaconda3/envs/pg/lib/python3.8/site-packages (from python-dateutil<3.0.0,>=2.1->botocore<1.18.0,>=1.17.46->boto3<2,>=1.9.253->watchtower) (1.15.0)\n",
      "Requirement already satisfied: s3fs==0.4.2 in /home/ec2-user/anaconda3/envs/pg/lib/python3.8/site-packages (0.4.2)\n",
      "Requirement already satisfied: fsspec>=0.6.0 in /home/ec2-user/anaconda3/envs/pg/lib/python3.8/site-packages (from s3fs==0.4.2) (0.8.0)\n",
      "Requirement already satisfied: botocore>=1.12.91 in /home/ec2-user/anaconda3/envs/pg/lib/python3.8/site-packages (from s3fs==0.4.2) (1.17.46)\n",
      "Requirement already satisfied: urllib3<1.26,>=1.20; python_version != \"3.4\" in /home/ec2-user/anaconda3/envs/pg/lib/python3.8/site-packages (from botocore>=1.12.91->s3fs==0.4.2) (1.25.10)\n",
      "Requirement already satisfied: jmespath<1.0.0,>=0.7.1 in /home/ec2-user/anaconda3/envs/pg/lib/python3.8/site-packages (from botocore>=1.12.91->s3fs==0.4.2) (0.10.0)\n",
      "Requirement already satisfied: docutils<0.16,>=0.10 in /home/ec2-user/anaconda3/envs/pg/lib/python3.8/site-packages (from botocore>=1.12.91->s3fs==0.4.2) (0.15.2)\n",
      "Requirement already satisfied: python-dateutil<3.0.0,>=2.1 in /home/ec2-user/anaconda3/envs/pg/lib/python3.8/site-packages (from botocore>=1.12.91->s3fs==0.4.2) (2.8.1)\n",
      "Requirement already satisfied: six>=1.5 in /home/ec2-user/anaconda3/envs/pg/lib/python3.8/site-packages (from python-dateutil<3.0.0,>=2.1->botocore>=1.12.91->s3fs==0.4.2) (1.15.0)\n",
      "Requirement already satisfied: pyathena in /home/ec2-user/anaconda3/envs/pg/lib/python3.8/site-packages (1.11.0)\n",
      "Requirement already satisfied: botocore>=1.5.52 in /home/ec2-user/anaconda3/envs/pg/lib/python3.8/site-packages (from pyathena) (1.17.46)\n",
      "Requirement already satisfied: boto3>=1.4.4 in /home/ec2-user/anaconda3/envs/pg/lib/python3.8/site-packages (from pyathena) (1.14.46)\n",
      "Requirement already satisfied: future in /home/ec2-user/anaconda3/envs/pg/lib/python3.8/site-packages (from pyathena) (0.18.2)\n",
      "Requirement already satisfied: tenacity>=4.1.0 in /home/ec2-user/anaconda3/envs/pg/lib/python3.8/site-packages (from pyathena) (6.2.0)\n",
      "Requirement already satisfied: jmespath<1.0.0,>=0.7.1 in /home/ec2-user/anaconda3/envs/pg/lib/python3.8/site-packages (from botocore>=1.5.52->pyathena) (0.10.0)\n",
      "Requirement already satisfied: python-dateutil<3.0.0,>=2.1 in /home/ec2-user/anaconda3/envs/pg/lib/python3.8/site-packages (from botocore>=1.5.52->pyathena) (2.8.1)\n",
      "Requirement already satisfied: urllib3<1.26,>=1.20; python_version != \"3.4\" in /home/ec2-user/anaconda3/envs/pg/lib/python3.8/site-packages (from botocore>=1.5.52->pyathena) (1.25.10)\n",
      "Requirement already satisfied: docutils<0.16,>=0.10 in /home/ec2-user/anaconda3/envs/pg/lib/python3.8/site-packages (from botocore>=1.5.52->pyathena) (0.15.2)\n",
      "Requirement already satisfied: s3transfer<0.4.0,>=0.3.0 in /home/ec2-user/anaconda3/envs/pg/lib/python3.8/site-packages (from boto3>=1.4.4->pyathena) (0.3.3)\n",
      "Requirement already satisfied: six>=1.9.0 in /home/ec2-user/anaconda3/envs/pg/lib/python3.8/site-packages (from tenacity>=4.1.0->pyathena) (1.15.0)\n",
      "Requirement already satisfied: matplotlib in /home/ec2-user/anaconda3/envs/pg/lib/python3.8/site-packages (3.3.1)\n",
      "Requirement already satisfied: cycler>=0.10 in /home/ec2-user/anaconda3/envs/pg/lib/python3.8/site-packages (from matplotlib) (0.10.0)\n",
      "Requirement already satisfied: kiwisolver>=1.0.1 in /home/ec2-user/anaconda3/envs/pg/lib/python3.8/site-packages (from matplotlib) (1.2.0)\n",
      "Requirement already satisfied: python-dateutil>=2.1 in /home/ec2-user/anaconda3/envs/pg/lib/python3.8/site-packages (from matplotlib) (2.8.1)\n",
      "Requirement already satisfied: certifi>=2020.06.20 in /home/ec2-user/anaconda3/envs/pg/lib/python3.8/site-packages (from matplotlib) (2020.6.20)\n",
      "Requirement already satisfied: numpy>=1.15 in /home/ec2-user/anaconda3/envs/pg/lib/python3.8/site-packages (from matplotlib) (1.19.1)\n",
      "Requirement already satisfied: pyparsing!=2.0.4,!=2.1.2,!=2.1.6,>=2.0.3 in /home/ec2-user/anaconda3/envs/pg/lib/python3.8/site-packages (from matplotlib) (2.4.7)\n",
      "Requirement already satisfied: pillow>=6.2.0 in /home/ec2-user/anaconda3/envs/pg/lib/python3.8/site-packages (from matplotlib) (7.2.0)\n",
      "Requirement already satisfied: six in /home/ec2-user/anaconda3/envs/pg/lib/python3.8/site-packages (from cycler>=0.10->matplotlib) (1.15.0)\n",
      "Requirement already satisfied: scipy in /home/ec2-user/anaconda3/envs/pg/lib/python3.8/site-packages (1.5.2)\n",
      "Requirement already satisfied: numpy>=1.14.5 in /home/ec2-user/anaconda3/envs/pg/lib/python3.8/site-packages (from scipy) (1.19.1)\n",
      "Requirement already satisfied: ipywidgets in /home/ec2-user/anaconda3/envs/pg/lib/python3.8/site-packages (7.5.1)\n",
      "Requirement already satisfied: nbformat>=4.2.0 in /home/ec2-user/anaconda3/envs/pg/lib/python3.8/site-packages (from ipywidgets) (5.0.7)\n",
      "Requirement already satisfied: traitlets>=4.3.1 in /home/ec2-user/anaconda3/envs/pg/lib/python3.8/site-packages (from ipywidgets) (4.3.3)\n",
      "Requirement already satisfied: ipykernel>=4.5.1 in /home/ec2-user/anaconda3/envs/pg/lib/python3.8/site-packages (from ipywidgets) (5.3.4)\n",
      "Requirement already satisfied: widgetsnbextension~=3.5.0 in /home/ec2-user/anaconda3/envs/pg/lib/python3.8/site-packages (from ipywidgets) (3.5.1)\n",
      "Requirement already satisfied: ipython>=4.0.0; python_version >= \"3.3\" in /home/ec2-user/anaconda3/envs/pg/lib/python3.8/site-packages (from ipywidgets) (7.16.1)\n",
      "Requirement already satisfied: jsonschema!=2.5.0,>=2.4 in /home/ec2-user/anaconda3/envs/pg/lib/python3.8/site-packages (from nbformat>=4.2.0->ipywidgets) (3.2.0)\n",
      "Requirement already satisfied: jupyter-core in /home/ec2-user/anaconda3/envs/pg/lib/python3.8/site-packages (from nbformat>=4.2.0->ipywidgets) (4.6.3)\n",
      "Requirement already satisfied: ipython-genutils in /home/ec2-user/anaconda3/envs/pg/lib/python3.8/site-packages (from nbformat>=4.2.0->ipywidgets) (0.2.0)\n",
      "Requirement already satisfied: six in /home/ec2-user/anaconda3/envs/pg/lib/python3.8/site-packages (from traitlets>=4.3.1->ipywidgets) (1.15.0)\n",
      "Requirement already satisfied: decorator in /home/ec2-user/anaconda3/envs/pg/lib/python3.8/site-packages (from traitlets>=4.3.1->ipywidgets) (4.4.2)\n",
      "Requirement already satisfied: jupyter-client in /home/ec2-user/anaconda3/envs/pg/lib/python3.8/site-packages (from ipykernel>=4.5.1->ipywidgets) (6.1.6)\n",
      "Requirement already satisfied: tornado>=4.2 in /home/ec2-user/anaconda3/envs/pg/lib/python3.8/site-packages (from ipykernel>=4.5.1->ipywidgets) (6.0.4)\n",
      "Requirement already satisfied: notebook>=4.4.1 in /home/ec2-user/anaconda3/envs/pg/lib/python3.8/site-packages (from widgetsnbextension~=3.5.0->ipywidgets) (6.1.3)\n",
      "Requirement already satisfied: pickleshare in /home/ec2-user/anaconda3/envs/pg/lib/python3.8/site-packages (from ipython>=4.0.0; python_version >= \"3.3\"->ipywidgets) (0.7.5)\n",
      "Requirement already satisfied: pexpect; sys_platform != \"win32\" in /home/ec2-user/anaconda3/envs/pg/lib/python3.8/site-packages (from ipython>=4.0.0; python_version >= \"3.3\"->ipywidgets) (4.8.0)\n",
      "Requirement already satisfied: jedi>=0.10 in /home/ec2-user/anaconda3/envs/pg/lib/python3.8/site-packages (from ipython>=4.0.0; python_version >= \"3.3\"->ipywidgets) (0.17.1)\n",
      "Requirement already satisfied: prompt-toolkit!=3.0.0,!=3.0.1,<3.1.0,>=2.0.0 in /home/ec2-user/anaconda3/envs/pg/lib/python3.8/site-packages (from ipython>=4.0.0; python_version >= \"3.3\"->ipywidgets) (3.0.5)\n",
      "Requirement already satisfied: setuptools>=18.5 in /home/ec2-user/anaconda3/envs/pg/lib/python3.8/site-packages (from ipython>=4.0.0; python_version >= \"3.3\"->ipywidgets) (49.6.0.post20200814)\n",
      "Requirement already satisfied: pygments in /home/ec2-user/anaconda3/envs/pg/lib/python3.8/site-packages (from ipython>=4.0.0; python_version >= \"3.3\"->ipywidgets) (2.6.1)\n",
      "Requirement already satisfied: backcall in /home/ec2-user/anaconda3/envs/pg/lib/python3.8/site-packages (from ipython>=4.0.0; python_version >= \"3.3\"->ipywidgets) (0.2.0)\n",
      "Requirement already satisfied: pyrsistent>=0.14.0 in /home/ec2-user/anaconda3/envs/pg/lib/python3.8/site-packages (from jsonschema!=2.5.0,>=2.4->nbformat>=4.2.0->ipywidgets) (0.16.0)\n",
      "Requirement already satisfied: attrs>=17.4.0 in /home/ec2-user/anaconda3/envs/pg/lib/python3.8/site-packages (from jsonschema!=2.5.0,>=2.4->nbformat>=4.2.0->ipywidgets) (19.3.0)\n",
      "Requirement already satisfied: python-dateutil>=2.1 in /home/ec2-user/anaconda3/envs/pg/lib/python3.8/site-packages (from jupyter-client->ipykernel>=4.5.1->ipywidgets) (2.8.1)\n",
      "Requirement already satisfied: pyzmq>=13 in /home/ec2-user/anaconda3/envs/pg/lib/python3.8/site-packages (from jupyter-client->ipykernel>=4.5.1->ipywidgets) (19.0.1)\n",
      "Requirement already satisfied: nbconvert in /home/ec2-user/anaconda3/envs/pg/lib/python3.8/site-packages (from notebook>=4.4.1->widgetsnbextension~=3.5.0->ipywidgets) (5.6.1)\n",
      "Requirement already satisfied: terminado>=0.8.3 in /home/ec2-user/anaconda3/envs/pg/lib/python3.8/site-packages (from notebook>=4.4.1->widgetsnbextension~=3.5.0->ipywidgets) (0.8.3)\n",
      "Requirement already satisfied: jinja2 in /home/ec2-user/anaconda3/envs/pg/lib/python3.8/site-packages (from notebook>=4.4.1->widgetsnbextension~=3.5.0->ipywidgets) (2.11.2)\n",
      "Requirement already satisfied: prometheus-client in /home/ec2-user/anaconda3/envs/pg/lib/python3.8/site-packages (from notebook>=4.4.1->widgetsnbextension~=3.5.0->ipywidgets) (0.8.0)\n",
      "Requirement already satisfied: Send2Trash in /home/ec2-user/anaconda3/envs/pg/lib/python3.8/site-packages (from notebook>=4.4.1->widgetsnbextension~=3.5.0->ipywidgets) (1.5.0)\n",
      "Requirement already satisfied: argon2-cffi in /home/ec2-user/anaconda3/envs/pg/lib/python3.8/site-packages (from notebook>=4.4.1->widgetsnbextension~=3.5.0->ipywidgets) (20.1.0)\n",
      "Requirement already satisfied: ptyprocess>=0.5 in /home/ec2-user/anaconda3/envs/pg/lib/python3.8/site-packages (from pexpect; sys_platform != \"win32\"->ipython>=4.0.0; python_version >= \"3.3\"->ipywidgets) (0.6.0)\n",
      "Requirement already satisfied: parso<0.8.0,>=0.7.0 in /home/ec2-user/anaconda3/envs/pg/lib/python3.8/site-packages (from jedi>=0.10->ipython>=4.0.0; python_version >= \"3.3\"->ipywidgets) (0.7.0)\n",
      "Requirement already satisfied: wcwidth in /home/ec2-user/anaconda3/envs/pg/lib/python3.8/site-packages (from prompt-toolkit!=3.0.0,!=3.0.1,<3.1.0,>=2.0.0->ipython>=4.0.0; python_version >= \"3.3\"->ipywidgets) (0.2.5)\n",
      "Requirement already satisfied: defusedxml in /home/ec2-user/anaconda3/envs/pg/lib/python3.8/site-packages (from nbconvert->notebook>=4.4.1->widgetsnbextension~=3.5.0->ipywidgets) (0.6.0)\n",
      "Requirement already satisfied: pandocfilters>=1.4.1 in /home/ec2-user/anaconda3/envs/pg/lib/python3.8/site-packages (from nbconvert->notebook>=4.4.1->widgetsnbextension~=3.5.0->ipywidgets) (1.4.2)\n",
      "Requirement already satisfied: testpath in /home/ec2-user/anaconda3/envs/pg/lib/python3.8/site-packages (from nbconvert->notebook>=4.4.1->widgetsnbextension~=3.5.0->ipywidgets) (0.4.4)\n",
      "Requirement already satisfied: mistune<2,>=0.8.1 in /home/ec2-user/anaconda3/envs/pg/lib/python3.8/site-packages (from nbconvert->notebook>=4.4.1->widgetsnbextension~=3.5.0->ipywidgets) (0.8.4)\n",
      "Requirement already satisfied: bleach in /home/ec2-user/anaconda3/envs/pg/lib/python3.8/site-packages (from nbconvert->notebook>=4.4.1->widgetsnbextension~=3.5.0->ipywidgets) (3.1.5)\n",
      "Requirement already satisfied: entrypoints>=0.2.2 in /home/ec2-user/anaconda3/envs/pg/lib/python3.8/site-packages (from nbconvert->notebook>=4.4.1->widgetsnbextension~=3.5.0->ipywidgets) (0.3)\n",
      "Requirement already satisfied: MarkupSafe>=0.23 in /home/ec2-user/anaconda3/envs/pg/lib/python3.8/site-packages (from jinja2->notebook>=4.4.1->widgetsnbextension~=3.5.0->ipywidgets) (1.1.1)\n",
      "Requirement already satisfied: cffi>=1.0.0 in /home/ec2-user/anaconda3/envs/pg/lib/python3.8/site-packages (from argon2-cffi->notebook>=4.4.1->widgetsnbextension~=3.5.0->ipywidgets) (1.14.2)\n",
      "Requirement already satisfied: packaging in /home/ec2-user/anaconda3/envs/pg/lib/python3.8/site-packages (from bleach->nbconvert->notebook>=4.4.1->widgetsnbextension~=3.5.0->ipywidgets) (20.4)\n",
      "Requirement already satisfied: webencodings in /home/ec2-user/anaconda3/envs/pg/lib/python3.8/site-packages (from bleach->nbconvert->notebook>=4.4.1->widgetsnbextension~=3.5.0->ipywidgets) (0.5.1)\n",
      "Requirement already satisfied: pycparser in /home/ec2-user/anaconda3/envs/pg/lib/python3.8/site-packages (from cffi>=1.0.0->argon2-cffi->notebook>=4.4.1->widgetsnbextension~=3.5.0->ipywidgets) (2.20)\n",
      "Requirement already satisfied: pyparsing>=2.0.2 in /home/ec2-user/anaconda3/envs/pg/lib/python3.8/site-packages (from packaging->bleach->nbconvert->notebook>=4.4.1->widgetsnbextension~=3.5.0->ipywidgets) (2.4.7)\n",
      "Requirement already satisfied: scikit-learn in /home/ec2-user/anaconda3/envs/pg/lib/python3.8/site-packages (0.23.2)\n",
      "Requirement already satisfied: threadpoolctl>=2.0.0 in /home/ec2-user/anaconda3/envs/pg/lib/python3.8/site-packages (from scikit-learn) (2.1.0)\n",
      "Requirement already satisfied: scipy>=0.19.1 in /home/ec2-user/anaconda3/envs/pg/lib/python3.8/site-packages (from scikit-learn) (1.5.2)\n",
      "Requirement already satisfied: numpy>=1.13.3 in /home/ec2-user/anaconda3/envs/pg/lib/python3.8/site-packages (from scikit-learn) (1.19.1)\n",
      "Requirement already satisfied: joblib>=0.11 in /home/ec2-user/anaconda3/envs/pg/lib/python3.8/site-packages (from scikit-learn) (0.16.0)\n",
      "Collecting package metadata (current_repodata.json): done\n",
      "Solving environment: done\n",
      "\n",
      "\n",
      "==> WARNING: A newer version of conda exists. <==\n",
      "  current version: 4.8.3\n",
      "  latest version: 4.8.4\n",
      "\n",
      "Please update conda by running\n",
      "\n",
      "    $ conda update -n base -c defaults conda\n",
      "\n",
      "\n",
      "\n",
      "# All requested packages already installed.\n",
      "\n",
      "Requirement already up-to-date: jupyter_client in /home/ec2-user/anaconda3/envs/pg/lib/python3.8/site-packages (6.1.6)\n",
      "Requirement already satisfied, skipping upgrade: traitlets in /home/ec2-user/anaconda3/envs/pg/lib/python3.8/site-packages (from jupyter_client) (4.3.3)\n",
      "Requirement already satisfied, skipping upgrade: tornado>=4.1 in /home/ec2-user/anaconda3/envs/pg/lib/python3.8/site-packages (from jupyter_client) (6.0.4)\n",
      "Requirement already satisfied, skipping upgrade: pyzmq>=13 in /home/ec2-user/anaconda3/envs/pg/lib/python3.8/site-packages (from jupyter_client) (19.0.1)\n",
      "Requirement already satisfied, skipping upgrade: jupyter-core>=4.6.0 in /home/ec2-user/anaconda3/envs/pg/lib/python3.8/site-packages (from jupyter_client) (4.6.3)\n",
      "Requirement already satisfied, skipping upgrade: python-dateutil>=2.1 in /home/ec2-user/anaconda3/envs/pg/lib/python3.8/site-packages (from jupyter_client) (2.8.1)\n",
      "Requirement already satisfied, skipping upgrade: decorator in /home/ec2-user/anaconda3/envs/pg/lib/python3.8/site-packages (from traitlets->jupyter_client) (4.4.2)\n",
      "Requirement already satisfied, skipping upgrade: ipython-genutils in /home/ec2-user/anaconda3/envs/pg/lib/python3.8/site-packages (from traitlets->jupyter_client) (0.2.0)\n",
      "Requirement already satisfied, skipping upgrade: six in /home/ec2-user/anaconda3/envs/pg/lib/python3.8/site-packages (from traitlets->jupyter_client) (1.15.0)\n"
     ]
    }
   ],
   "source": [
    "! pip install pandas\n",
    "! pip install boto3\n",
    "! pip install watchtower\n",
    "! pip install s3fs==0.4.2\n",
    "! pip install pyathena\n",
    "! pip install matplotlib\n",
    "! pip install scipy\n",
    "! pip install ipywidgets\n",
    "! pip install scikit-learn\n",
    "\n",
    "! conda install -c conda-forge --yes implicit \n",
    "\n",
    "! pip install --upgrade jupyter_client # useful to make ipywidgets work properly when fitting data with implicit\n",
    "\n",
    "# pip install git+https://gitlab.com/cloena/cloena-aws-tools.git"
   ]
  },
  {
   "cell_type": "code",
   "execution_count": 2,
   "metadata": {},
   "outputs": [
    {
     "name": "stderr",
     "output_type": "stream",
     "text": [
      "/home/ec2-user/anaconda3/envs/pg/lib/python3.8/site-packages/aws_tools/project_config.py:18: UserWarning: no aws_config.json file found\n",
      "  warnings.warn('no aws_config.json file found')\n"
     ]
    }
   ],
   "source": [
    "import pandas as pd\n",
    "\n",
    "import s3fs\n",
    "\n",
    "import pickle\n",
    "\n",
    "import implicit\n",
    "\n",
    "from aws_tools import athena_tools, s3_tools\n",
    "\n",
    "import matplotlib\n",
    "\n",
    "import re\n",
    "\n",
    "import scipy\n",
    "\n",
    "from ipywidgets import FloatProgress\n",
    "\n",
    "import numpy as np\n",
    "\n",
    "from sklearn.preprocessing import MinMaxScaler\n",
    "\n",
    "from datetime import datetime"
   ]
  },
  {
   "cell_type": "code",
   "execution_count": 3,
   "metadata": {},
   "outputs": [],
   "source": [
    "_v = '_v0.2'"
   ]
  },
  {
   "cell_type": "code",
   "execution_count": 4,
   "metadata": {},
   "outputs": [
    {
     "ename": "MemoryError",
     "evalue": "Unable to allocate 433. MiB for an array with shape (56764816,) and data type object",
     "output_type": "error",
     "traceback": [
      "\u001b[0;31m---------------------------------------------------------------------------\u001b[0m",
      "\u001b[0;31mMemoryError\u001b[0m                               Traceback (most recent call last)",
      "\u001b[0;32m<ipython-input-4-87986916d898>\u001b[0m in \u001b[0;36m<module>\u001b[0;34m\u001b[0m\n\u001b[0;32m----> 1\u001b[0;31m \u001b[0mdata_views\u001b[0m \u001b[0;34m=\u001b[0m \u001b[0mpd\u001b[0m\u001b[0;34m.\u001b[0m\u001b[0mread_csv\u001b[0m\u001b[0;34m(\u001b[0m\u001b[0;34m's3://bt-data-science-playground/bt-tv-recommendation-system/model_objects/historicalviews'\u001b[0m\u001b[0;34m+\u001b[0m\u001b[0m_v\u001b[0m\u001b[0;34m+\u001b[0m\u001b[0;34m'.csv'\u001b[0m\u001b[0;34m)\u001b[0m\u001b[0;34m\u001b[0m\u001b[0;34m\u001b[0m\u001b[0m\n\u001b[0m\u001b[1;32m      2\u001b[0m \u001b[0mdata_purren\u001b[0m \u001b[0;34m=\u001b[0m \u001b[0mpd\u001b[0m\u001b[0;34m.\u001b[0m\u001b[0mread_csv\u001b[0m\u001b[0;34m(\u001b[0m\u001b[0;34m's3://bt-data-science-playground/bt-tv-recommendation-system/model_objects/historicalpurchasesrentals'\u001b[0m\u001b[0;34m+\u001b[0m\u001b[0m_v\u001b[0m\u001b[0;34m+\u001b[0m\u001b[0;34m'.csv'\u001b[0m\u001b[0;34m)\u001b[0m\u001b[0;34m\u001b[0m\u001b[0;34m\u001b[0m\u001b[0m\n",
      "\u001b[0;32m~/anaconda3/envs/pg/lib/python3.8/site-packages/pandas/io/parsers.py\u001b[0m in \u001b[0;36mread_csv\u001b[0;34m(filepath_or_buffer, sep, delimiter, header, names, index_col, usecols, squeeze, prefix, mangle_dupe_cols, dtype, engine, converters, true_values, false_values, skipinitialspace, skiprows, skipfooter, nrows, na_values, keep_default_na, na_filter, verbose, skip_blank_lines, parse_dates, infer_datetime_format, keep_date_col, date_parser, dayfirst, cache_dates, iterator, chunksize, compression, thousands, decimal, lineterminator, quotechar, quoting, doublequote, escapechar, comment, encoding, dialect, error_bad_lines, warn_bad_lines, delim_whitespace, low_memory, memory_map, float_precision)\u001b[0m\n\u001b[1;32m    684\u001b[0m     )\n\u001b[1;32m    685\u001b[0m \u001b[0;34m\u001b[0m\u001b[0m\n\u001b[0;32m--> 686\u001b[0;31m     \u001b[0;32mreturn\u001b[0m \u001b[0m_read\u001b[0m\u001b[0;34m(\u001b[0m\u001b[0mfilepath_or_buffer\u001b[0m\u001b[0;34m,\u001b[0m \u001b[0mkwds\u001b[0m\u001b[0;34m)\u001b[0m\u001b[0;34m\u001b[0m\u001b[0;34m\u001b[0m\u001b[0m\n\u001b[0m\u001b[1;32m    687\u001b[0m \u001b[0;34m\u001b[0m\u001b[0m\n\u001b[1;32m    688\u001b[0m \u001b[0;34m\u001b[0m\u001b[0m\n",
      "\u001b[0;32m~/anaconda3/envs/pg/lib/python3.8/site-packages/pandas/io/parsers.py\u001b[0m in \u001b[0;36m_read\u001b[0;34m(filepath_or_buffer, kwds)\u001b[0m\n\u001b[1;32m    456\u001b[0m \u001b[0;34m\u001b[0m\u001b[0m\n\u001b[1;32m    457\u001b[0m     \u001b[0;32mtry\u001b[0m\u001b[0;34m:\u001b[0m\u001b[0;34m\u001b[0m\u001b[0;34m\u001b[0m\u001b[0m\n\u001b[0;32m--> 458\u001b[0;31m         \u001b[0mdata\u001b[0m \u001b[0;34m=\u001b[0m \u001b[0mparser\u001b[0m\u001b[0;34m.\u001b[0m\u001b[0mread\u001b[0m\u001b[0;34m(\u001b[0m\u001b[0mnrows\u001b[0m\u001b[0;34m)\u001b[0m\u001b[0;34m\u001b[0m\u001b[0;34m\u001b[0m\u001b[0m\n\u001b[0m\u001b[1;32m    459\u001b[0m     \u001b[0;32mfinally\u001b[0m\u001b[0;34m:\u001b[0m\u001b[0;34m\u001b[0m\u001b[0;34m\u001b[0m\u001b[0m\n\u001b[1;32m    460\u001b[0m         \u001b[0mparser\u001b[0m\u001b[0;34m.\u001b[0m\u001b[0mclose\u001b[0m\u001b[0;34m(\u001b[0m\u001b[0;34m)\u001b[0m\u001b[0;34m\u001b[0m\u001b[0;34m\u001b[0m\u001b[0m\n",
      "\u001b[0;32m~/anaconda3/envs/pg/lib/python3.8/site-packages/pandas/io/parsers.py\u001b[0m in \u001b[0;36mread\u001b[0;34m(self, nrows)\u001b[0m\n\u001b[1;32m   1184\u001b[0m     \u001b[0;32mdef\u001b[0m \u001b[0mread\u001b[0m\u001b[0;34m(\u001b[0m\u001b[0mself\u001b[0m\u001b[0;34m,\u001b[0m \u001b[0mnrows\u001b[0m\u001b[0;34m=\u001b[0m\u001b[0;32mNone\u001b[0m\u001b[0;34m)\u001b[0m\u001b[0;34m:\u001b[0m\u001b[0;34m\u001b[0m\u001b[0;34m\u001b[0m\u001b[0m\n\u001b[1;32m   1185\u001b[0m         \u001b[0mnrows\u001b[0m \u001b[0;34m=\u001b[0m \u001b[0m_validate_integer\u001b[0m\u001b[0;34m(\u001b[0m\u001b[0;34m\"nrows\"\u001b[0m\u001b[0;34m,\u001b[0m \u001b[0mnrows\u001b[0m\u001b[0;34m)\u001b[0m\u001b[0;34m\u001b[0m\u001b[0;34m\u001b[0m\u001b[0m\n\u001b[0;32m-> 1186\u001b[0;31m         \u001b[0mret\u001b[0m \u001b[0;34m=\u001b[0m \u001b[0mself\u001b[0m\u001b[0;34m.\u001b[0m\u001b[0m_engine\u001b[0m\u001b[0;34m.\u001b[0m\u001b[0mread\u001b[0m\u001b[0;34m(\u001b[0m\u001b[0mnrows\u001b[0m\u001b[0;34m)\u001b[0m\u001b[0;34m\u001b[0m\u001b[0;34m\u001b[0m\u001b[0m\n\u001b[0m\u001b[1;32m   1187\u001b[0m \u001b[0;34m\u001b[0m\u001b[0m\n\u001b[1;32m   1188\u001b[0m         \u001b[0;31m# May alter columns / col_dict\u001b[0m\u001b[0;34m\u001b[0m\u001b[0;34m\u001b[0m\u001b[0;34m\u001b[0m\u001b[0m\n",
      "\u001b[0;32m~/anaconda3/envs/pg/lib/python3.8/site-packages/pandas/io/parsers.py\u001b[0m in \u001b[0;36mread\u001b[0;34m(self, nrows)\u001b[0m\n\u001b[1;32m   2143\u001b[0m     \u001b[0;32mdef\u001b[0m \u001b[0mread\u001b[0m\u001b[0;34m(\u001b[0m\u001b[0mself\u001b[0m\u001b[0;34m,\u001b[0m \u001b[0mnrows\u001b[0m\u001b[0;34m=\u001b[0m\u001b[0;32mNone\u001b[0m\u001b[0;34m)\u001b[0m\u001b[0;34m:\u001b[0m\u001b[0;34m\u001b[0m\u001b[0;34m\u001b[0m\u001b[0m\n\u001b[1;32m   2144\u001b[0m         \u001b[0;32mtry\u001b[0m\u001b[0;34m:\u001b[0m\u001b[0;34m\u001b[0m\u001b[0;34m\u001b[0m\u001b[0m\n\u001b[0;32m-> 2145\u001b[0;31m             \u001b[0mdata\u001b[0m \u001b[0;34m=\u001b[0m \u001b[0mself\u001b[0m\u001b[0;34m.\u001b[0m\u001b[0m_reader\u001b[0m\u001b[0;34m.\u001b[0m\u001b[0mread\u001b[0m\u001b[0;34m(\u001b[0m\u001b[0mnrows\u001b[0m\u001b[0;34m)\u001b[0m\u001b[0;34m\u001b[0m\u001b[0;34m\u001b[0m\u001b[0m\n\u001b[0m\u001b[1;32m   2146\u001b[0m         \u001b[0;32mexcept\u001b[0m \u001b[0mStopIteration\u001b[0m\u001b[0;34m:\u001b[0m\u001b[0;34m\u001b[0m\u001b[0;34m\u001b[0m\u001b[0m\n\u001b[1;32m   2147\u001b[0m             \u001b[0;32mif\u001b[0m \u001b[0mself\u001b[0m\u001b[0;34m.\u001b[0m\u001b[0m_first_chunk\u001b[0m\u001b[0;34m:\u001b[0m\u001b[0;34m\u001b[0m\u001b[0;34m\u001b[0m\u001b[0m\n",
      "\u001b[0;32mpandas/_libs/parsers.pyx\u001b[0m in \u001b[0;36mpandas._libs.parsers.TextReader.read\u001b[0;34m()\u001b[0m\n",
      "\u001b[0;32mpandas/_libs/parsers.pyx\u001b[0m in \u001b[0;36mpandas._libs.parsers.TextReader._read_low_memory\u001b[0;34m()\u001b[0m\n",
      "\u001b[0;32mpandas/_libs/parsers.pyx\u001b[0m in \u001b[0;36mpandas._libs.parsers._concatenate_chunks\u001b[0;34m()\u001b[0m\n",
      "\u001b[0;32m<__array_function__ internals>\u001b[0m in \u001b[0;36mconcatenate\u001b[0;34m(*args, **kwargs)\u001b[0m\n",
      "\u001b[0;31mMemoryError\u001b[0m: Unable to allocate 433. MiB for an array with shape (56764816,) and data type object"
     ]
    }
   ],
   "source": [
    "data_views = pd.read_csv('s3://bt-data-science-playground/bt-tv-recommendation-system/model_objects/historicalviews'+_v+'.csv')\n",
    "data_purren = pd.read_csv('s3://bt-data-science-playground/bt-tv-recommendation-system/model_objects/historicalpurchasesrentals'+_v+'.csv')"
   ]
  },
  {
   "cell_type": "code",
   "execution_count": null,
   "metadata": {},
   "outputs": [],
   "source": [
    "data_views.head()"
   ]
  },
  {
   "cell_type": "code",
   "execution_count": null,
   "metadata": {},
   "outputs": [],
   "source": [
    "data_purren.head()"
   ]
  },
  {
   "cell_type": "code",
   "execution_count": null,
   "metadata": {},
   "outputs": [],
   "source": [
    "data_views = data_views.rename(columns={'VIEW_DATE': 'EVENT_DATE'})\n",
    "data_purren = data_purren.rename(columns={'PURCHASE_DATE': 'EVENT_DATE'})\n",
    "\n",
    "data_views['TYPE_ENTITLEMENT'] = 'VIEW'"
   ]
  },
  {
   "cell_type": "code",
   "execution_count": null,
   "metadata": {},
   "outputs": [],
   "source": [
    "cols = ['ID_USER', 'ID_EDITORIAL', 'TITLE', 'GENRE', 'RATING', 'TYPE', 'TYPE_ASSET', 'END_DATE', 'EVENT_DATE', 'TYPE_ENTITLEMENT']\n",
    "\n",
    "data_views = data_views[cols]\n",
    "data_purren = data_purren[cols]\n",
    "\n",
    "data_implicit = data_views.append(data_purren, ignore_index=True)\n",
    "del data_views\n",
    "del data_purren"
   ]
  },
  {
   "cell_type": "code",
   "execution_count": null,
   "metadata": {},
   "outputs": [],
   "source": [
    "DROP_MUSIC = True\n",
    "if DROP_MUSIC:\n",
    "    data_implicit = data_implicit[data_implicit['TYPE_ASSET'] != 'Music']\n",
    "else:\n",
    "    pass"
   ]
  },
  {
   "cell_type": "code",
   "execution_count": null,
   "metadata": {},
   "outputs": [],
   "source": [
    "# Calculate sparsity \n",
    "n_users = data_implicit['ID_USER'].unique().shape[0]\n",
    "n_items = data_implicit['ID_EDITORIAL'].unique().shape[0]\n",
    "\n",
    "print('Number of users: {}'.format(n_users))\n",
    "print('Number of items: {}'.format(n_items))\n",
    "print('Sparsity: {:4.3f}%'.format(float(data_implicit.shape[0]) / float(n_users*n_items) * 100))"
   ]
  },
  {
   "cell_type": "code",
   "execution_count": null,
   "metadata": {},
   "outputs": [],
   "source": [
    "# Calculate how many users have watched X% of the content\n",
    "idx = data_implicit['ID_USER'].value_counts().index.tolist()\n",
    "counts = data_implicit['ID_USER'].value_counts().tolist()\n",
    "\n",
    "user_count = []\n",
    "percentage_activity = []\n",
    "activity_so_far = 0\n",
    "total_activity = sum(counts)\n",
    "\n",
    "for u in range(len(idx)):\n",
    "    \n",
    "    user_count.append(u+1)\n",
    "    \n",
    "    activity_so_far = activity_so_far + counts[u]\n",
    "    percentage_so_far = activity_so_far / total_activity * 100\n",
    "    percentage_activity.append(percentage_so_far)\n",
    "     \n",
    "import matplotlib.pyplot as plt\n",
    "\n",
    "plt.plot(user_count, percentage_activity)\n",
    "plt.xlabel('User count')\n",
    "plt.ylabel('Total # of activity [%]')\n",
    "plt.grid()\n",
    "plt.yticks(np.arange(0,105, 5))\n",
    "plt.xticks(np.arange(0,1000000, 150000))\n",
    "plt.show()"
   ]
  },
  {
   "cell_type": "code",
   "execution_count": null,
   "metadata": {},
   "outputs": [],
   "source": [
    "data_implicit['TYPE_ENTITLEMENT'].value_counts()"
   ]
  },
  {
   "cell_type": "code",
   "execution_count": null,
   "metadata": {},
   "outputs": [],
   "source": [
    "# based on type of entitlement (purchase/rental/ppv/view) give different strength [EVOD=purchase;TVOD=rental]\n",
    "def assign_eventStrength(x):\n",
    "    if x == 'EVOD':\n",
    "        val = 3\n",
    "    elif x == 'TVOD':\n",
    "        val = 2\n",
    "    elif x == 'PPV':\n",
    "        val = 3\n",
    "    elif x == 'VIEW':\n",
    "        val = 1\n",
    "    else:\n",
    "        val = 1\n",
    "    return val\n",
    "\n",
    "data_implicit['eventStrength'] = data_implicit['TYPE_ENTITLEMENT'].apply(assign_eventStrength)"
   ]
  },
  {
   "cell_type": "code",
   "execution_count": null,
   "metadata": {},
   "outputs": [],
   "source": [
    "# Turn duplicate the RATING column in a form that is numeric so that they can be compared\n",
    "def rating_toNumeric(x):\n",
    "    if x == 'u':\n",
    "        return 0\n",
    "    elif x == 'pg':\n",
    "        return 1\n",
    "    elif x == '12':\n",
    "        return 2\n",
    "    elif x == '15':\n",
    "        return 3\n",
    "    elif x == '18':\n",
    "        return 4\n",
    "    else:\n",
    "        return 5\n",
    "    \n",
    "data_implicit['RATING_n'] = data_implicit['RATING'].apply(rating_toNumeric)\n",
    "\n",
    "data_implicit.head()"
   ]
  },
  {
   "cell_type": "code",
   "execution_count": null,
   "metadata": {},
   "outputs": [],
   "source": [
    "data_implicit['TITLE'] = data_implicit['TITLE'].astype(\"category\")\n",
    "data_implicit['ID_USER'] = data_implicit['ID_USER'].astype(\"category\")\n",
    "data_implicit['ID_EDITORIAL'] = data_implicit['ID_EDITORIAL'].astype(\"category\")\n",
    "data_implicit['ID_USER_simple'] = data_implicit['ID_USER'].cat.codes\n",
    "data_implicit['ID_EDITORIAL_simple'] = data_implicit['ID_EDITORIAL'].cat.codes\n",
    "\n",
    "data_implicit.head()"
   ]
  },
  {
   "cell_type": "code",
   "execution_count": null,
   "metadata": {},
   "outputs": [],
   "source": [
    "sparse_content_person = scipy.sparse.csr_matrix(\n",
    "    (data_implicit['eventStrength'].astype(float), (data_implicit['ID_EDITORIAL_simple'], data_implicit['ID_USER_simple']))\n",
    ")\n",
    "sparse_person_content = scipy.sparse.csr_matrix(\n",
    "    (data_implicit['eventStrength'].astype(float), (data_implicit['ID_USER_simple'], data_implicit['ID_EDITORIAL_simple']))\n",
    ")"
   ]
  },
  {
   "cell_type": "code",
   "execution_count": null,
   "metadata": {},
   "outputs": [],
   "source": [
    "%%time\n",
    "\n",
    "model = implicit.als.AlternatingLeastSquares(factors=30, regularization=0.1, iterations=50)\n",
    "alpha = 15\n",
    "data_tofit = (sparse_content_person * alpha).astype('double')\n",
    "model.fit(data_tofit)"
   ]
  },
  {
   "cell_type": "code",
   "execution_count": null,
   "metadata": {},
   "outputs": [],
   "source": [
    "# one hot encode the genre tag to add as features for the More Like This\n",
    "\n",
    "genres = data_implicit[['ID_EDITORIAL_simple', 'TITLE', 'GENRE']]\n",
    "genres = genres.drop_duplicates(subset='ID_EDITORIAL_simple')\n",
    "genres = genres.sort_values(by='ID_EDITORIAL_simple').reset_index(drop=True)\n",
    "genres.head()"
   ]
  },
  {
   "cell_type": "code",
   "execution_count": null,
   "metadata": {},
   "outputs": [],
   "source": [
    "genres_dummies = pd.get_dummies(genres['GENRE'], prefix='GENRE')\n",
    "\n",
    "genres_dummies.head()"
   ]
  },
  {
   "cell_type": "code",
   "execution_count": null,
   "metadata": {},
   "outputs": [],
   "source": [
    "def more_like_this(content_id):\n",
    "    \n",
    "    n_similar = 10\n",
    "\n",
    "    content_vecs = model.item_factors\n",
    "\n",
    "    # trasnform to dataframe to stack with genre one hot encoded features\n",
    "    content_vecs = pd.DataFrame(content_vecs)\n",
    "\n",
    "    # create list of feature dataframes to stack in case one of the sets needs to be multiplied to make more prominent\n",
    "    # can improve by looking at size of features of the two sets, e.g. if one hot encoding gives 90 features vs 30 chosen for synthetic ones genre will automatically be more important and synthetic sets may need to be multiplied by an equivalent factor\n",
    "    importance_syntheticFeatures = 6\n",
    "    importance_onehotencodedFeatures = 1\n",
    "    to_stack = [content_vecs]*importance_syntheticFeatures + [genres_dummies]*importance_onehotencodedFeatures\n",
    "\n",
    "    # Stack horizontally features coming from collaborativ filtering & genre one hot encoding\n",
    "    content_vecs = pd.concat(to_stack, axis=1)\n",
    "\n",
    "    # cosine similarity where A is any item, and B is the item of interest\n",
    "    content_norms = np.sqrt((content_vecs * content_vecs).sum(axis=1)) # i.e. calculating abs. value of the vector of each item -->  |A|\n",
    "\n",
    "    scores = content_vecs.dot(content_vecs.iloc[content_id,:])  / (content_norms * content_vecs.iloc[content_id,:].sum()) # i.e. calculating cosine similarity, (A.B) / (|A| x |B|) --> |B| just a constant so effectively won't need it\n",
    "\n",
    "    top_idx = scores.argsort()\n",
    "    similar = sorted(zip(top_idx, scores[top_idx]), key=lambda x: -x[1])\n",
    "\n",
    "    counter = 1\n",
    "    for content in similar:\n",
    "        if counter <= n_similar:\n",
    "\n",
    "            idx, score = content\n",
    "\n",
    "            # show only if still available \n",
    "            if pd.to_datetime(data_implicit['END_DATE'].loc[data_implicit['ID_EDITORIAL_simple'] == idx].iloc[0]) > datetime.now():\n",
    "\n",
    "                # show only if rating is as selected item or lower\n",
    "                if data_implicit['RATING_n'].loc[data_implicit['ID_EDITORIAL_simple'] == idx].iloc[0] <= data_implicit['RATING_n'].loc[data_implicit['ID_EDITORIAL_simple'] == content_id].iloc[0]:\n",
    "\n",
    "                    print(data_implicit['TITLE'].loc[data_implicit['ID_EDITORIAL_simple'] == idx].iloc[0])\n",
    "\n",
    "                    counter = counter + 1\n",
    "\n",
    "        else:\n",
    "            break"
   ]
  },
  {
   "cell_type": "code",
   "execution_count": null,
   "metadata": {},
   "outputs": [],
   "source": [
    "more_like_this(2439)"
   ]
  },
  {
   "cell_type": "code",
   "execution_count": null,
   "metadata": {},
   "outputs": [],
   "source": [
    "#data_implicit[data_implicit['TITLE'].str.lower().str.contains(\"frozen\")].head(10)\n",
    "data_implicit[data_implicit['TITLE']=='Wonder Woman'].head(1)"
   ]
  },
  {
   "cell_type": "code",
   "execution_count": null,
   "metadata": {},
   "outputs": [],
   "source": [
    "def for_you(person_id):\n",
    "    \n",
    "    # Number of content items to get\n",
    "    num_contents=10\n",
    "\n",
    "    # Get the interactions scores from the sparse person content matrix\n",
    "    person_interactions = sparse_person_content[person_id,:].toarray()\n",
    "    # Add 1 to everything, so that articles with no interaction yet become equal to 1\n",
    "    person_interactions = person_interactions.reshape(-1) + 1\n",
    "    # Make articles already interacted zero\n",
    "    person_interactions[person_interactions > 1] = 0\n",
    "    # Get dot product of person vector and all content vectors\n",
    "    rec_vector = person_vecs[person_id,:].dot(content_vecs.T).toarray()\n",
    "\n",
    "    # Scale this recommendation vector between 0 and 1\n",
    "    min_max = MinMaxScaler()\n",
    "    rec_vector_scaled = min_max.fit_transform(rec_vector.reshape(-1,1))[:,0]\n",
    "\n",
    "    dithering = True\n",
    "    if dithering:\n",
    "        # Dithering score is caclulated as:\n",
    "        # dithScore = log10(rank) + N(0,log10(eps)), where eps is generally between 1.5 & 3.0\n",
    "        eps = 1.5\n",
    "        rank = np.argsort(np.argsort(-rec_vector.reshape(-1,1)[:,0])) # for rec_vector_scaled the higher the better\n",
    "        dithScore = np.log10(rank+1) + np.random.normal(0.0, np.sqrt(np.log10(eps)), len(rank)) # make rank start from 1 not zero\n",
    "        # for dithScore the lower the better\n",
    "\n",
    "        # Content already interacted will effectively have their recommendation multiplied by zero\n",
    "        recommend_vector = person_interactions * (-dithScore + max(dithScore)) # multiply this way to effectively make the best score being the highest again\n",
    "\n",
    "        content_idx = np.argsort(recommend_vector)[::-1]\n",
    "\n",
    "    else:\n",
    "        # Content already interacted will effectively have their recommendation multiplied by zero\n",
    "        recommend_vector = person_interactions * rec_vector_scaled\n",
    "\n",
    "        # Sort the indices of the content into order of best recommendations\n",
    "        content_idx = np.argsort(recommend_vector)[::-1]\n",
    "\n",
    "    # Start empty list to store titles and scores\n",
    "    titles = []\n",
    "    scores = []\n",
    "    content_ids = []\n",
    "\n",
    "    idx = 0\n",
    "    counter = 0\n",
    "    max_user_rating = max(data_implicit['RATING_n'].loc[data_implicit['ID_USER_simple'] == person_id])\n",
    "    while counter < num_contents:\n",
    "\n",
    "        # show only if still available \n",
    "        if pd.to_datetime(data_implicit['END_DATE'].loc[data_implicit['ID_EDITORIAL_simple'] == content_idx[idx]].iloc[0]) > datetime.now():\n",
    "\n",
    "            # check that item has rating as or lower of highest watched by user\n",
    "            if data_implicit['RATING_n'].loc[data_implicit['ID_EDITORIAL_simple'] == content_idx[idx]].iloc[0] <= max_user_rating:\n",
    "\n",
    "                # Append titles and scores to the list\n",
    "                titles.append(data_implicit['TITLE'].loc[data_implicit['ID_EDITORIAL_simple'] == content_idx[idx]].iloc[0])\n",
    "                scores.append(recommend_vector[content_idx[idx]])\n",
    "                content_ids.append(content_idx[idx])\n",
    "\n",
    "                counter = counter + 1\n",
    "        idx = idx + 1\n",
    "    recommendations = pd.DataFrame({'title': titles, 'score': scores, 'ids' : content_ids})\n",
    "    print(recommendations)"
   ]
  },
  {
   "cell_type": "code",
   "execution_count": null,
   "metadata": {},
   "outputs": [],
   "source": [
    "for_you(21)"
   ]
  },
  {
   "cell_type": "code",
   "execution_count": null,
   "metadata": {},
   "outputs": [],
   "source": []
  }
 ],
 "metadata": {
  "kernelspec": {
   "display_name": "conda_pg",
   "language": "python",
   "name": "conda_pg"
  },
  "language_info": {
   "codemirror_mode": {
    "name": "ipython",
    "version": 3
   },
   "file_extension": ".py",
   "mimetype": "text/x-python",
   "name": "python",
   "nbconvert_exporter": "python",
   "pygments_lexer": "ipython3",
   "version": "3.8.5"
  }
 },
 "nbformat": 4,
 "nbformat_minor": 4
}
