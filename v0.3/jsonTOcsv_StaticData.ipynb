{
 "cells": [
  {
   "cell_type": "code",
   "execution_count": 1,
   "metadata": {},
   "outputs": [],
   "source": [
    "import pandas as pd\n",
    "import json\n",
    "\n",
    "import boto3"
   ]
  },
  {
   "cell_type": "code",
   "execution_count": 2,
   "metadata": {
    "collapsed": true,
    "jupyter": {
     "outputs_hidden": true
    }
   },
   "outputs": [
    {
     "ename": "NoSuchKey",
     "evalue": "An error occurred (NoSuchKey) when calling the GetObject operation: The specified key does not exist.",
     "output_type": "error",
     "traceback": [
      "\u001b[0;31m---------------------------------------------------------------------------\u001b[0m",
      "\u001b[0;31mNoSuchKey\u001b[0m                                 Traceback (most recent call last)",
      "\u001b[0;32m<ipython-input-2-ff1d944698eb>\u001b[0m in \u001b[0;36m<module>\u001b[0;34m\u001b[0m\n\u001b[1;32m      4\u001b[0m \u001b[0;34m\u001b[0m\u001b[0m\n\u001b[1;32m      5\u001b[0m \u001b[0mcontent_object\u001b[0m \u001b[0;34m=\u001b[0m \u001b[0ms3\u001b[0m\u001b[0;34m.\u001b[0m\u001b[0mObject\u001b[0m\u001b[0;34m(\u001b[0m\u001b[0;34m'bt-data-science-playground'\u001b[0m\u001b[0;34m,\u001b[0m \u001b[0;34m'bt-tv-recommendation-system/output/StaticData_ForYou.json'\u001b[0m\u001b[0;34m)\u001b[0m\u001b[0;34m\u001b[0m\u001b[0;34m\u001b[0m\u001b[0m\n\u001b[0;32m----> 6\u001b[0;31m \u001b[0mfile_content\u001b[0m \u001b[0;34m=\u001b[0m \u001b[0mcontent_object\u001b[0m\u001b[0;34m.\u001b[0m\u001b[0mget\u001b[0m\u001b[0;34m(\u001b[0m\u001b[0;34m)\u001b[0m\u001b[0;34m[\u001b[0m\u001b[0;34m'Body'\u001b[0m\u001b[0;34m]\u001b[0m\u001b[0;34m.\u001b[0m\u001b[0mread\u001b[0m\u001b[0;34m(\u001b[0m\u001b[0;34m)\u001b[0m\u001b[0;34m.\u001b[0m\u001b[0mdecode\u001b[0m\u001b[0;34m(\u001b[0m\u001b[0;34m'utf-8'\u001b[0m\u001b[0;34m)\u001b[0m\u001b[0;34m\u001b[0m\u001b[0;34m\u001b[0m\u001b[0m\n\u001b[0m\u001b[1;32m      7\u001b[0m \u001b[0mjson_content\u001b[0m \u001b[0;34m=\u001b[0m \u001b[0mjson\u001b[0m\u001b[0;34m.\u001b[0m\u001b[0mloads\u001b[0m\u001b[0;34m(\u001b[0m\u001b[0mfile_content\u001b[0m\u001b[0;34m)\u001b[0m\u001b[0;34m\u001b[0m\u001b[0;34m\u001b[0m\u001b[0m\n",
      "\u001b[0;32m~/anaconda3/envs/python3/lib/python3.6/site-packages/boto3/resources/factory.py\u001b[0m in \u001b[0;36mdo_action\u001b[0;34m(self, *args, **kwargs)\u001b[0m\n\u001b[1;32m    518\u001b[0m             \u001b[0;31m# instance via ``self``.\u001b[0m\u001b[0;34m\u001b[0m\u001b[0;34m\u001b[0m\u001b[0;34m\u001b[0m\u001b[0m\n\u001b[1;32m    519\u001b[0m             \u001b[0;32mdef\u001b[0m \u001b[0mdo_action\u001b[0m\u001b[0;34m(\u001b[0m\u001b[0mself\u001b[0m\u001b[0;34m,\u001b[0m \u001b[0;34m*\u001b[0m\u001b[0margs\u001b[0m\u001b[0;34m,\u001b[0m \u001b[0;34m**\u001b[0m\u001b[0mkwargs\u001b[0m\u001b[0;34m)\u001b[0m\u001b[0;34m:\u001b[0m\u001b[0;34m\u001b[0m\u001b[0;34m\u001b[0m\u001b[0m\n\u001b[0;32m--> 520\u001b[0;31m                 \u001b[0mresponse\u001b[0m \u001b[0;34m=\u001b[0m \u001b[0maction\u001b[0m\u001b[0;34m(\u001b[0m\u001b[0mself\u001b[0m\u001b[0;34m,\u001b[0m \u001b[0;34m*\u001b[0m\u001b[0margs\u001b[0m\u001b[0;34m,\u001b[0m \u001b[0;34m**\u001b[0m\u001b[0mkwargs\u001b[0m\u001b[0;34m)\u001b[0m\u001b[0;34m\u001b[0m\u001b[0;34m\u001b[0m\u001b[0m\n\u001b[0m\u001b[1;32m    521\u001b[0m \u001b[0;34m\u001b[0m\u001b[0m\n\u001b[1;32m    522\u001b[0m                 \u001b[0;32mif\u001b[0m \u001b[0mhasattr\u001b[0m\u001b[0;34m(\u001b[0m\u001b[0mself\u001b[0m\u001b[0;34m,\u001b[0m \u001b[0;34m'load'\u001b[0m\u001b[0;34m)\u001b[0m\u001b[0;34m:\u001b[0m\u001b[0;34m\u001b[0m\u001b[0;34m\u001b[0m\u001b[0m\n",
      "\u001b[0;32m~/anaconda3/envs/python3/lib/python3.6/site-packages/boto3/resources/action.py\u001b[0m in \u001b[0;36m__call__\u001b[0;34m(self, parent, *args, **kwargs)\u001b[0m\n\u001b[1;32m     81\u001b[0m                     operation_name, params)\n\u001b[1;32m     82\u001b[0m \u001b[0;34m\u001b[0m\u001b[0m\n\u001b[0;32m---> 83\u001b[0;31m         \u001b[0mresponse\u001b[0m \u001b[0;34m=\u001b[0m \u001b[0mgetattr\u001b[0m\u001b[0;34m(\u001b[0m\u001b[0mparent\u001b[0m\u001b[0;34m.\u001b[0m\u001b[0mmeta\u001b[0m\u001b[0;34m.\u001b[0m\u001b[0mclient\u001b[0m\u001b[0;34m,\u001b[0m \u001b[0moperation_name\u001b[0m\u001b[0;34m)\u001b[0m\u001b[0;34m(\u001b[0m\u001b[0;34m*\u001b[0m\u001b[0margs\u001b[0m\u001b[0;34m,\u001b[0m \u001b[0;34m**\u001b[0m\u001b[0mparams\u001b[0m\u001b[0;34m)\u001b[0m\u001b[0;34m\u001b[0m\u001b[0;34m\u001b[0m\u001b[0m\n\u001b[0m\u001b[1;32m     84\u001b[0m \u001b[0;34m\u001b[0m\u001b[0m\n\u001b[1;32m     85\u001b[0m         \u001b[0mlogger\u001b[0m\u001b[0;34m.\u001b[0m\u001b[0mdebug\u001b[0m\u001b[0;34m(\u001b[0m\u001b[0;34m'Response: %r'\u001b[0m\u001b[0;34m,\u001b[0m \u001b[0mresponse\u001b[0m\u001b[0;34m)\u001b[0m\u001b[0;34m\u001b[0m\u001b[0;34m\u001b[0m\u001b[0m\n",
      "\u001b[0;32m~/anaconda3/envs/python3/lib/python3.6/site-packages/botocore/client.py\u001b[0m in \u001b[0;36m_api_call\u001b[0;34m(self, *args, **kwargs)\u001b[0m\n\u001b[1;32m    355\u001b[0m                     \"%s() only accepts keyword arguments.\" % py_operation_name)\n\u001b[1;32m    356\u001b[0m             \u001b[0;31m# The \"self\" in this scope is referring to the BaseClient.\u001b[0m\u001b[0;34m\u001b[0m\u001b[0;34m\u001b[0m\u001b[0;34m\u001b[0m\u001b[0m\n\u001b[0;32m--> 357\u001b[0;31m             \u001b[0;32mreturn\u001b[0m \u001b[0mself\u001b[0m\u001b[0;34m.\u001b[0m\u001b[0m_make_api_call\u001b[0m\u001b[0;34m(\u001b[0m\u001b[0moperation_name\u001b[0m\u001b[0;34m,\u001b[0m \u001b[0mkwargs\u001b[0m\u001b[0;34m)\u001b[0m\u001b[0;34m\u001b[0m\u001b[0;34m\u001b[0m\u001b[0m\n\u001b[0m\u001b[1;32m    358\u001b[0m \u001b[0;34m\u001b[0m\u001b[0m\n\u001b[1;32m    359\u001b[0m         \u001b[0m_api_call\u001b[0m\u001b[0;34m.\u001b[0m\u001b[0m__name__\u001b[0m \u001b[0;34m=\u001b[0m \u001b[0mstr\u001b[0m\u001b[0;34m(\u001b[0m\u001b[0mpy_operation_name\u001b[0m\u001b[0;34m)\u001b[0m\u001b[0;34m\u001b[0m\u001b[0;34m\u001b[0m\u001b[0m\n",
      "\u001b[0;32m~/anaconda3/envs/python3/lib/python3.6/site-packages/botocore/client.py\u001b[0m in \u001b[0;36m_make_api_call\u001b[0;34m(self, operation_name, api_params)\u001b[0m\n\u001b[1;32m    674\u001b[0m             \u001b[0merror_code\u001b[0m \u001b[0;34m=\u001b[0m \u001b[0mparsed_response\u001b[0m\u001b[0;34m.\u001b[0m\u001b[0mget\u001b[0m\u001b[0;34m(\u001b[0m\u001b[0;34m\"Error\"\u001b[0m\u001b[0;34m,\u001b[0m \u001b[0;34m{\u001b[0m\u001b[0;34m}\u001b[0m\u001b[0;34m)\u001b[0m\u001b[0;34m.\u001b[0m\u001b[0mget\u001b[0m\u001b[0;34m(\u001b[0m\u001b[0;34m\"Code\"\u001b[0m\u001b[0;34m)\u001b[0m\u001b[0;34m\u001b[0m\u001b[0;34m\u001b[0m\u001b[0m\n\u001b[1;32m    675\u001b[0m             \u001b[0merror_class\u001b[0m \u001b[0;34m=\u001b[0m \u001b[0mself\u001b[0m\u001b[0;34m.\u001b[0m\u001b[0mexceptions\u001b[0m\u001b[0;34m.\u001b[0m\u001b[0mfrom_code\u001b[0m\u001b[0;34m(\u001b[0m\u001b[0merror_code\u001b[0m\u001b[0;34m)\u001b[0m\u001b[0;34m\u001b[0m\u001b[0;34m\u001b[0m\u001b[0m\n\u001b[0;32m--> 676\u001b[0;31m             \u001b[0;32mraise\u001b[0m \u001b[0merror_class\u001b[0m\u001b[0;34m(\u001b[0m\u001b[0mparsed_response\u001b[0m\u001b[0;34m,\u001b[0m \u001b[0moperation_name\u001b[0m\u001b[0;34m)\u001b[0m\u001b[0;34m\u001b[0m\u001b[0;34m\u001b[0m\u001b[0m\n\u001b[0m\u001b[1;32m    677\u001b[0m         \u001b[0;32melse\u001b[0m\u001b[0;34m:\u001b[0m\u001b[0;34m\u001b[0m\u001b[0;34m\u001b[0m\u001b[0m\n\u001b[1;32m    678\u001b[0m             \u001b[0;32mreturn\u001b[0m \u001b[0mparsed_response\u001b[0m\u001b[0;34m\u001b[0m\u001b[0;34m\u001b[0m\u001b[0m\n",
      "\u001b[0;31mNoSuchKey\u001b[0m: An error occurred (NoSuchKey) when calling the GetObject operation: The specified key does not exist."
     ]
    }
   ],
   "source": [
    "# FOR YOU\n",
    "\n",
    "s3 = boto3.resource('s3')\n",
    "\n",
    "content_object = s3.Object('bt-data-science-playground', 'bt-tv-recommendation-system/output/StaticData_ForYou.json')\n",
    "file_content = content_object.get()['Body'].read().decode('utf-8')\n",
    "json_content = json.loads(file_content)"
   ]
  },
  {
   "cell_type": "code",
   "execution_count": 3,
   "metadata": {},
   "outputs": [
    {
     "ename": "NameError",
     "evalue": "name 'json_content' is not defined",
     "output_type": "error",
     "traceback": [
      "\u001b[0;31m---------------------------------------------------------------------------\u001b[0m",
      "\u001b[0;31mNameError\u001b[0m                                 Traceback (most recent call last)",
      "\u001b[0;32m<ipython-input-3-ff6b6f1b80d1>\u001b[0m in \u001b[0;36m<module>\u001b[0;34m\u001b[0m\n\u001b[0;32m----> 1\u001b[0;31m \u001b[0mjson_content\u001b[0m\u001b[0;34m[\u001b[0m\u001b[0;34m'BBEU00021416'\u001b[0m\u001b[0;34m]\u001b[0m\u001b[0;34m[\u001b[0m\u001b[0;34m'movida_1979'\u001b[0m\u001b[0;34m]\u001b[0m\u001b[0;34m\u001b[0m\u001b[0;34m\u001b[0m\u001b[0m\n\u001b[0m",
      "\u001b[0;31mNameError\u001b[0m: name 'json_content' is not defined"
     ]
    }
   ],
   "source": [
    "json_content['BBEU00021416']['movida_1979']"
   ]
  },
  {
   "cell_type": "code",
   "execution_count": 33,
   "metadata": {},
   "outputs": [
    {
     "data": {
      "text/plain": [
       "{'score': 0.47390681505203247, 'type': 'BRAND'}"
      ]
     },
     "execution_count": 33,
     "metadata": {},
     "output_type": "execute_result"
    }
   ],
   "source": [
    "json_content['BBEU00029503']['movida_1979']"
   ]
  },
  {
   "cell_type": "code",
   "execution_count": 7,
   "metadata": {},
   "outputs": [],
   "source": [
    "df = pd.DataFrame(json_content)"
   ]
  },
  {
   "cell_type": "code",
   "execution_count": 8,
   "metadata": {},
   "outputs": [
    {
     "data": {
      "text/html": [
       "<div>\n",
       "<style scoped>\n",
       "    .dataframe tbody tr th:only-of-type {\n",
       "        vertical-align: middle;\n",
       "    }\n",
       "\n",
       "    .dataframe tbody tr th {\n",
       "        vertical-align: top;\n",
       "    }\n",
       "\n",
       "    .dataframe thead th {\n",
       "        text-align: right;\n",
       "    }\n",
       "</style>\n",
       "<table border=\"1\" class=\"dataframe\">\n",
       "  <thead>\n",
       "    <tr style=\"text-align: right;\">\n",
       "      <th></th>\n",
       "      <th>BBEU00021416</th>\n",
       "      <th>BBEU00029503</th>\n",
       "    </tr>\n",
       "  </thead>\n",
       "  <tbody>\n",
       "    <tr>\n",
       "      <th>movida_1979</th>\n",
       "      <td>{'score': 1.0, 'type': 'BRAND'}</td>\n",
       "      <td>{'score': 0.47390681505203247, 'type': 'BRAND'}</td>\n",
       "    </tr>\n",
       "    <tr>\n",
       "      <th>BBJ1814551A</th>\n",
       "      <td>{'score': 0.9139530062675476, 'type': 'PROGRAM'}</td>\n",
       "      <td>{'score': 0.04598216712474823, 'type': 'PROGRAM'}</td>\n",
       "    </tr>\n",
       "    <tr>\n",
       "      <th>BBJ1575512A</th>\n",
       "      <td>{'score': 0.9070125222206116, 'type': 'PROGRAM'}</td>\n",
       "      <td>{'score': 0.044497765600681305, 'type': 'PROGR...</td>\n",
       "    </tr>\n",
       "    <tr>\n",
       "      <th>BBJ269926HVOD</th>\n",
       "      <td>{'score': 0.9054839611053467, 'type': 'PROGRAM'}</td>\n",
       "      <td>{'score': 0.1753564476966858, 'type': 'PROGRAM'}</td>\n",
       "    </tr>\n",
       "    <tr>\n",
       "      <th>movida_10027073</th>\n",
       "      <td>{'score': 0.9040778875350952, 'type': 'COLLECT...</td>\n",
       "      <td>{'score': 0.0602838397026062, 'type': 'COLLECT...</td>\n",
       "    </tr>\n",
       "  </tbody>\n",
       "</table>\n",
       "</div>"
      ],
      "text/plain": [
       "                                                      BBEU00021416  \\\n",
       "movida_1979                        {'score': 1.0, 'type': 'BRAND'}   \n",
       "BBJ1814551A       {'score': 0.9139530062675476, 'type': 'PROGRAM'}   \n",
       "BBJ1575512A       {'score': 0.9070125222206116, 'type': 'PROGRAM'}   \n",
       "BBJ269926HVOD     {'score': 0.9054839611053467, 'type': 'PROGRAM'}   \n",
       "movida_10027073  {'score': 0.9040778875350952, 'type': 'COLLECT...   \n",
       "\n",
       "                                                      BBEU00029503  \n",
       "movida_1979        {'score': 0.47390681505203247, 'type': 'BRAND'}  \n",
       "BBJ1814551A      {'score': 0.04598216712474823, 'type': 'PROGRAM'}  \n",
       "BBJ1575512A      {'score': 0.044497765600681305, 'type': 'PROGR...  \n",
       "BBJ269926HVOD     {'score': 0.1753564476966858, 'type': 'PROGRAM'}  \n",
       "movida_10027073  {'score': 0.0602838397026062, 'type': 'COLLECT...  "
      ]
     },
     "execution_count": 8,
     "metadata": {},
     "output_type": "execute_result"
    }
   ],
   "source": [
    "df.head()"
   ]
  },
  {
   "cell_type": "code",
   "execution_count": 35,
   "metadata": {},
   "outputs": [
    {
     "data": {
      "text/html": [
       "<div>\n",
       "<style scoped>\n",
       "    .dataframe tbody tr th:only-of-type {\n",
       "        vertical-align: middle;\n",
       "    }\n",
       "\n",
       "    .dataframe tbody tr th {\n",
       "        vertical-align: top;\n",
       "    }\n",
       "\n",
       "    .dataframe thead th {\n",
       "        text-align: right;\n",
       "    }\n",
       "</style>\n",
       "<table border=\"1\" class=\"dataframe\">\n",
       "  <thead>\n",
       "    <tr style=\"text-align: right;\">\n",
       "      <th></th>\n",
       "      <th>movida_1979</th>\n",
       "      <th>BBJ1814551A</th>\n",
       "      <th>BBJ1575512A</th>\n",
       "      <th>BBJ269926HVOD</th>\n",
       "      <th>movida_10027073</th>\n",
       "      <th>BBJ1620056A</th>\n",
       "      <th>BBJ1690239A</th>\n",
       "      <th>BBJ1621565A</th>\n",
       "      <th>BBJ316698HVOD</th>\n",
       "      <th>BBJ956294HVOD</th>\n",
       "      <th>...</th>\n",
       "      <th>BBJ287368HVOD</th>\n",
       "      <th>BBJ922778HVOD</th>\n",
       "      <th>BBJ1060095HVOD</th>\n",
       "      <th>BBJ279760HVOD</th>\n",
       "      <th>BBJ2417933A</th>\n",
       "      <th>BBJ1739813A</th>\n",
       "      <th>BBJ385725HVOD</th>\n",
       "      <th>BBJ2260306A</th>\n",
       "      <th>BBJ1697254A</th>\n",
       "      <th>BBJ1517866A</th>\n",
       "    </tr>\n",
       "  </thead>\n",
       "  <tbody>\n",
       "    <tr>\n",
       "      <th>BBEU00021416</th>\n",
       "      <td>{'score': 1.0, 'type': 'BRAND'}</td>\n",
       "      <td>{'score': 0.9139530062675476, 'type': 'PROGRAM'}</td>\n",
       "      <td>{'score': 0.9070125222206116, 'type': 'PROGRAM'}</td>\n",
       "      <td>{'score': 0.9054839611053467, 'type': 'PROGRAM'}</td>\n",
       "      <td>{'score': 0.9040778875350952, 'type': 'COLLECT...</td>\n",
       "      <td>{'score': 0.9038712382316589, 'type': 'PROGRAM'}</td>\n",
       "      <td>{'score': 0.8950567841529846, 'type': 'PROGRAM'}</td>\n",
       "      <td>{'score': 0.8897213339805603, 'type': 'PROGRAM'}</td>\n",
       "      <td>{'score': 0.889232873916626, 'type': 'PROGRAM'}</td>\n",
       "      <td>{'score': 0.8834280967712402, 'type': 'PROGRAM'}</td>\n",
       "      <td>...</td>\n",
       "      <td>{'score': 0.0, 'type': 'PROGRAM'}</td>\n",
       "      <td>{'score': 0.0, 'type': 'PROGRAM'}</td>\n",
       "      <td>{'score': 0.0, 'type': 'PROGRAM'}</td>\n",
       "      <td>{'score': 0.0, 'type': 'PROGRAM'}</td>\n",
       "      <td>{'score': 0.0, 'type': 'PROGRAM'}</td>\n",
       "      <td>{'score': 0.0, 'type': 'PROGRAM'}</td>\n",
       "      <td>{'score': 0.0, 'type': 'PROGRAM'}</td>\n",
       "      <td>{'score': 0.0, 'type': 'PROGRAM'}</td>\n",
       "      <td>{'score': 0.0, 'type': 'PROGRAM'}</td>\n",
       "      <td>{'score': 0.0, 'type': 'PROGRAM'}</td>\n",
       "    </tr>\n",
       "    <tr>\n",
       "      <th>BBEU00029503</th>\n",
       "      <td>{'score': 0.47390681505203247, 'type': 'BRAND'}</td>\n",
       "      <td>{'score': 0.04598216712474823, 'type': 'PROGRAM'}</td>\n",
       "      <td>{'score': 0.044497765600681305, 'type': 'PROGR...</td>\n",
       "      <td>{'score': 0.1753564476966858, 'type': 'PROGRAM'}</td>\n",
       "      <td>{'score': 0.0602838397026062, 'type': 'COLLECT...</td>\n",
       "      <td>{'score': 0.09208690375089645, 'type': 'PROGRAM'}</td>\n",
       "      <td>{'score': 0.07271288335323334, 'type': 'PROGRAM'}</td>\n",
       "      <td>{'score': 0.09527410566806793, 'type': 'PROGRAM'}</td>\n",
       "      <td>{'score': 0.1481892168521881, 'type': 'PROGRAM'}</td>\n",
       "      <td>{'score': 0.07055683434009552, 'type': 'PROGRAM'}</td>\n",
       "      <td>...</td>\n",
       "      <td>{'score': 0.15211045742034912, 'type': 'PROGRAM'}</td>\n",
       "      <td>{'score': 0.20081092417240143, 'type': 'PROGRAM'}</td>\n",
       "      <td>{'score': 0.09586872160434723, 'type': 'PROGRAM'}</td>\n",
       "      <td>{'score': 0.13520942628383636, 'type': 'PROGRAM'}</td>\n",
       "      <td>{'score': 0.13762891292572021, 'type': 'PROGRAM'}</td>\n",
       "      <td>{'score': 0.1603630632162094, 'type': 'PROGRAM'}</td>\n",
       "      <td>{'score': 0.15721948444843292, 'type': 'PROGRAM'}</td>\n",
       "      <td>{'score': 0.15358376502990723, 'type': 'PROGRAM'}</td>\n",
       "      <td>{'score': 0.1517581045627594, 'type': 'PROGRAM'}</td>\n",
       "      <td>{'score': 0.15806299448013306, 'type': 'PROGRAM'}</td>\n",
       "    </tr>\n",
       "  </tbody>\n",
       "</table>\n",
       "<p>2 rows × 22781 columns</p>\n",
       "</div>"
      ],
      "text/plain": [
       "                                                  movida_1979  \\\n",
       "BBEU00021416                  {'score': 1.0, 'type': 'BRAND'}   \n",
       "BBEU00029503  {'score': 0.47390681505203247, 'type': 'BRAND'}   \n",
       "\n",
       "                                                    BBJ1814551A  \\\n",
       "BBEU00021416   {'score': 0.9139530062675476, 'type': 'PROGRAM'}   \n",
       "BBEU00029503  {'score': 0.04598216712474823, 'type': 'PROGRAM'}   \n",
       "\n",
       "                                                    BBJ1575512A  \\\n",
       "BBEU00021416   {'score': 0.9070125222206116, 'type': 'PROGRAM'}   \n",
       "BBEU00029503  {'score': 0.044497765600681305, 'type': 'PROGR...   \n",
       "\n",
       "                                                 BBJ269926HVOD  \\\n",
       "BBEU00021416  {'score': 0.9054839611053467, 'type': 'PROGRAM'}   \n",
       "BBEU00029503  {'score': 0.1753564476966858, 'type': 'PROGRAM'}   \n",
       "\n",
       "                                                movida_10027073  \\\n",
       "BBEU00021416  {'score': 0.9040778875350952, 'type': 'COLLECT...   \n",
       "BBEU00029503  {'score': 0.0602838397026062, 'type': 'COLLECT...   \n",
       "\n",
       "                                                    BBJ1620056A  \\\n",
       "BBEU00021416   {'score': 0.9038712382316589, 'type': 'PROGRAM'}   \n",
       "BBEU00029503  {'score': 0.09208690375089645, 'type': 'PROGRAM'}   \n",
       "\n",
       "                                                    BBJ1690239A  \\\n",
       "BBEU00021416   {'score': 0.8950567841529846, 'type': 'PROGRAM'}   \n",
       "BBEU00029503  {'score': 0.07271288335323334, 'type': 'PROGRAM'}   \n",
       "\n",
       "                                                    BBJ1621565A  \\\n",
       "BBEU00021416   {'score': 0.8897213339805603, 'type': 'PROGRAM'}   \n",
       "BBEU00029503  {'score': 0.09527410566806793, 'type': 'PROGRAM'}   \n",
       "\n",
       "                                                 BBJ316698HVOD  \\\n",
       "BBEU00021416   {'score': 0.889232873916626, 'type': 'PROGRAM'}   \n",
       "BBEU00029503  {'score': 0.1481892168521881, 'type': 'PROGRAM'}   \n",
       "\n",
       "                                                  BBJ956294HVOD  ...  \\\n",
       "BBEU00021416   {'score': 0.8834280967712402, 'type': 'PROGRAM'}  ...   \n",
       "BBEU00029503  {'score': 0.07055683434009552, 'type': 'PROGRAM'}  ...   \n",
       "\n",
       "                                                  BBJ287368HVOD  \\\n",
       "BBEU00021416                  {'score': 0.0, 'type': 'PROGRAM'}   \n",
       "BBEU00029503  {'score': 0.15211045742034912, 'type': 'PROGRAM'}   \n",
       "\n",
       "                                                  BBJ922778HVOD  \\\n",
       "BBEU00021416                  {'score': 0.0, 'type': 'PROGRAM'}   \n",
       "BBEU00029503  {'score': 0.20081092417240143, 'type': 'PROGRAM'}   \n",
       "\n",
       "                                                 BBJ1060095HVOD  \\\n",
       "BBEU00021416                  {'score': 0.0, 'type': 'PROGRAM'}   \n",
       "BBEU00029503  {'score': 0.09586872160434723, 'type': 'PROGRAM'}   \n",
       "\n",
       "                                                  BBJ279760HVOD  \\\n",
       "BBEU00021416                  {'score': 0.0, 'type': 'PROGRAM'}   \n",
       "BBEU00029503  {'score': 0.13520942628383636, 'type': 'PROGRAM'}   \n",
       "\n",
       "                                                    BBJ2417933A  \\\n",
       "BBEU00021416                  {'score': 0.0, 'type': 'PROGRAM'}   \n",
       "BBEU00029503  {'score': 0.13762891292572021, 'type': 'PROGRAM'}   \n",
       "\n",
       "                                                   BBJ1739813A  \\\n",
       "BBEU00021416                 {'score': 0.0, 'type': 'PROGRAM'}   \n",
       "BBEU00029503  {'score': 0.1603630632162094, 'type': 'PROGRAM'}   \n",
       "\n",
       "                                                  BBJ385725HVOD  \\\n",
       "BBEU00021416                  {'score': 0.0, 'type': 'PROGRAM'}   \n",
       "BBEU00029503  {'score': 0.15721948444843292, 'type': 'PROGRAM'}   \n",
       "\n",
       "                                                    BBJ2260306A  \\\n",
       "BBEU00021416                  {'score': 0.0, 'type': 'PROGRAM'}   \n",
       "BBEU00029503  {'score': 0.15358376502990723, 'type': 'PROGRAM'}   \n",
       "\n",
       "                                                   BBJ1697254A  \\\n",
       "BBEU00021416                 {'score': 0.0, 'type': 'PROGRAM'}   \n",
       "BBEU00029503  {'score': 0.1517581045627594, 'type': 'PROGRAM'}   \n",
       "\n",
       "                                                    BBJ1517866A  \n",
       "BBEU00021416                  {'score': 0.0, 'type': 'PROGRAM'}  \n",
       "BBEU00029503  {'score': 0.15806299448013306, 'type': 'PROGRAM'}  \n",
       "\n",
       "[2 rows x 22781 columns]"
      ]
     },
     "execution_count": 35,
     "metadata": {},
     "output_type": "execute_result"
    }
   ],
   "source": [
    "df.T.head()"
   ]
  },
  {
   "cell_type": "code",
   "execution_count": 37,
   "metadata": {},
   "outputs": [],
   "source": [
    "# tab-separated csv\n",
    "# column 1: usernames\n",
    "# column 2: all scores as dictionary\n",
    "df_TSV = pd.DataFrame()"
   ]
  },
  {
   "cell_type": "code",
   "execution_count": 38,
   "metadata": {},
   "outputs": [],
   "source": [
    "df_TSV['user'] = list(json_content.keys())"
   ]
  },
  {
   "cell_type": "code",
   "execution_count": 40,
   "metadata": {},
   "outputs": [],
   "source": [
    "df_TSV['recommendations'] = list(json_content.values())"
   ]
  },
  {
   "cell_type": "code",
   "execution_count": 41,
   "metadata": {},
   "outputs": [
    {
     "data": {
      "text/html": [
       "<div>\n",
       "<style scoped>\n",
       "    .dataframe tbody tr th:only-of-type {\n",
       "        vertical-align: middle;\n",
       "    }\n",
       "\n",
       "    .dataframe tbody tr th {\n",
       "        vertical-align: top;\n",
       "    }\n",
       "\n",
       "    .dataframe thead th {\n",
       "        text-align: right;\n",
       "    }\n",
       "</style>\n",
       "<table border=\"1\" class=\"dataframe\">\n",
       "  <thead>\n",
       "    <tr style=\"text-align: right;\">\n",
       "      <th></th>\n",
       "      <th>user</th>\n",
       "      <th>recommendations</th>\n",
       "    </tr>\n",
       "  </thead>\n",
       "  <tbody>\n",
       "    <tr>\n",
       "      <th>0</th>\n",
       "      <td>BBEU00021416</td>\n",
       "      <td>{'movida_1979': {'score': 1.0, 'type': 'BRAND'...</td>\n",
       "    </tr>\n",
       "    <tr>\n",
       "      <th>1</th>\n",
       "      <td>BBEU00029503</td>\n",
       "      <td>{'movida_57700': {'score': 0.6580191850662231,...</td>\n",
       "    </tr>\n",
       "  </tbody>\n",
       "</table>\n",
       "</div>"
      ],
      "text/plain": [
       "           user                                    recommendations\n",
       "0  BBEU00021416  {'movida_1979': {'score': 1.0, 'type': 'BRAND'...\n",
       "1  BBEU00029503  {'movida_57700': {'score': 0.6580191850662231,..."
      ]
     },
     "execution_count": 41,
     "metadata": {},
     "output_type": "execute_result"
    }
   ],
   "source": [
    "df_TSV.head()"
   ]
  },
  {
   "cell_type": "code",
   "execution_count": 42,
   "metadata": {},
   "outputs": [
    {
     "data": {
      "text/plain": [
       "{'ResponseMetadata': {'RequestId': '6CF89F0D54DB132F',\n",
       "  'HostId': 'QjuZHix33n0ZxTYp8NEiO+z+vETJMOB3IKDayQH4JXaSqinPCIfdpCTrCuHF2KHcsk2RUwC7Ilo=',\n",
       "  'HTTPStatusCode': 200,\n",
       "  'HTTPHeaders': {'x-amz-id-2': 'QjuZHix33n0ZxTYp8NEiO+z+vETJMOB3IKDayQH4JXaSqinPCIfdpCTrCuHF2KHcsk2RUwC7Ilo=',\n",
       "   'x-amz-request-id': '6CF89F0D54DB132F',\n",
       "   'date': 'Thu, 05 Nov 2020 17:17:29 GMT',\n",
       "   'x-amz-server-side-encryption': 'AES256',\n",
       "   'etag': '\"9385363374829b12c8dc98e671c7c909\"',\n",
       "   'content-length': '0',\n",
       "   'server': 'AmazonS3'},\n",
       "  'RetryAttempts': 0},\n",
       " 'ETag': '\"9385363374829b12c8dc98e671c7c909\"',\n",
       " 'ServerSideEncryption': 'AES256'}"
      ]
     },
     "execution_count": 42,
     "metadata": {},
     "output_type": "execute_result"
    }
   ],
   "source": [
    "from io import StringIO # python3; python2: BytesIO \n",
    "import boto3\n",
    "\n",
    "bucket = 'bt-data-science-playground' # already created on S3\n",
    "csv_buffer = StringIO()\n",
    "df_TSV.to_csv(csv_buffer, sep='\\t', index=False)\n",
    "s3_resource = boto3.resource('s3')\n",
    "s3_resource.Object(bucket, 'bt-tv-recommendation-system/output/StaticData_ForYou.csv').put(Body=csv_buffer.getvalue())"
   ]
  },
  {
   "cell_type": "code",
   "execution_count": 43,
   "metadata": {},
   "outputs": [],
   "source": [
    "# MORE LIKE THIS\n",
    "\n",
    "s3 = boto3.resource('s3')\n",
    "\n",
    "content_object = s3.Object('bt-data-science-playground', 'bt-tv-recommendation-system/output/StaticData_MoreLikeThis.json')\n",
    "file_content = content_object.get()['Body'].read().decode('utf-8')\n",
    "json_content = json.loads(file_content)"
   ]
  },
  {
   "cell_type": "code",
   "execution_count": 44,
   "metadata": {},
   "outputs": [],
   "source": [
    "# tab-separated csv\n",
    "# column 1: usernames\n",
    "# column 2: all scores as dictionary\n",
    "df_TSV = pd.DataFrame()"
   ]
  },
  {
   "cell_type": "code",
   "execution_count": 45,
   "metadata": {},
   "outputs": [],
   "source": [
    "df_TSV['content'] = list(json_content.keys())"
   ]
  },
  {
   "cell_type": "code",
   "execution_count": 46,
   "metadata": {},
   "outputs": [],
   "source": [
    "df_TSV['recommendations'] = list(json_content.values())"
   ]
  },
  {
   "cell_type": "code",
   "execution_count": 47,
   "metadata": {},
   "outputs": [
    {
     "data": {
      "text/html": [
       "<div>\n",
       "<style scoped>\n",
       "    .dataframe tbody tr th:only-of-type {\n",
       "        vertical-align: middle;\n",
       "    }\n",
       "\n",
       "    .dataframe tbody tr th {\n",
       "        vertical-align: top;\n",
       "    }\n",
       "\n",
       "    .dataframe thead th {\n",
       "        text-align: right;\n",
       "    }\n",
       "</style>\n",
       "<table border=\"1\" class=\"dataframe\">\n",
       "  <thead>\n",
       "    <tr style=\"text-align: right;\">\n",
       "      <th></th>\n",
       "      <th>content</th>\n",
       "      <th>recommendations</th>\n",
       "    </tr>\n",
       "  </thead>\n",
       "  <tbody>\n",
       "    <tr>\n",
       "      <th>0</th>\n",
       "      <td>BBJ316737HVOD</td>\n",
       "      <td>{'BBJ316737HVOD': {'score': 0.8738770484924316...</td>\n",
       "    </tr>\n",
       "    <tr>\n",
       "      <th>1</th>\n",
       "      <td>BBJ316779IOC</td>\n",
       "      <td>{'BBJ316779IOC': {'score': 0.955123245716095, ...</td>\n",
       "    </tr>\n",
       "  </tbody>\n",
       "</table>\n",
       "</div>"
      ],
      "text/plain": [
       "         content                                    recommendations\n",
       "0  BBJ316737HVOD  {'BBJ316737HVOD': {'score': 0.8738770484924316...\n",
       "1   BBJ316779IOC  {'BBJ316779IOC': {'score': 0.955123245716095, ..."
      ]
     },
     "execution_count": 47,
     "metadata": {},
     "output_type": "execute_result"
    }
   ],
   "source": [
    "df_TSV.head()"
   ]
  },
  {
   "cell_type": "code",
   "execution_count": 48,
   "metadata": {},
   "outputs": [
    {
     "data": {
      "text/plain": [
       "{'ResponseMetadata': {'RequestId': 'CN9K4J5J2P6K5SDT',\n",
       "  'HostId': 'szs8joVJSGh0Wz0nnzSjWFPtJc5DjotEUG1iwXy0PLBQbdpsEyu20dvpQyPAguf30HLCxUTCgxU=',\n",
       "  'HTTPStatusCode': 200,\n",
       "  'HTTPHeaders': {'x-amz-id-2': 'szs8joVJSGh0Wz0nnzSjWFPtJc5DjotEUG1iwXy0PLBQbdpsEyu20dvpQyPAguf30HLCxUTCgxU=',\n",
       "   'x-amz-request-id': 'CN9K4J5J2P6K5SDT',\n",
       "   'date': 'Thu, 05 Nov 2020 17:19:45 GMT',\n",
       "   'x-amz-server-side-encryption': 'AES256',\n",
       "   'etag': '\"ef415f3d1eab5309978fa1eca5da4855\"',\n",
       "   'content-length': '0',\n",
       "   'server': 'AmazonS3'},\n",
       "  'RetryAttempts': 0},\n",
       " 'ETag': '\"ef415f3d1eab5309978fa1eca5da4855\"',\n",
       " 'ServerSideEncryption': 'AES256'}"
      ]
     },
     "execution_count": 48,
     "metadata": {},
     "output_type": "execute_result"
    }
   ],
   "source": [
    "from io import StringIO # python3; python2: BytesIO \n",
    "import boto3\n",
    "\n",
    "bucket = 'bt-data-science-playground' # already created on S3\n",
    "csv_buffer = StringIO()\n",
    "df_TSV.to_csv(csv_buffer, sep='\\t', index=False)\n",
    "s3_resource = boto3.resource('s3')\n",
    "s3_resource.Object(bucket, 'bt-tv-recommendation-system/output/StaticData_MoreLikeThis.csv').put(Body=csv_buffer.getvalue())"
   ]
  },
  {
   "cell_type": "code",
   "execution_count": null,
   "metadata": {},
   "outputs": [],
   "source": []
  }
 ],
 "metadata": {
  "kernelspec": {
   "display_name": "conda_python3",
   "language": "python",
   "name": "conda_python3"
  },
  "language_info": {
   "codemirror_mode": {
    "name": "ipython",
    "version": 3
   },
   "file_extension": ".py",
   "mimetype": "text/x-python",
   "name": "python",
   "nbconvert_exporter": "python",
   "pygments_lexer": "ipython3",
   "version": "3.6.10"
  }
 },
 "nbformat": 4,
 "nbformat_minor": 4
}
