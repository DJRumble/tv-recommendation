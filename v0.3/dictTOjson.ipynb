{
 "cells": [
  {
   "cell_type": "code",
   "execution_count": 94,
   "metadata": {},
   "outputs": [],
   "source": [
    "import pandas as pd\n",
    "import json\n",
    "\n",
    "import boto3\n",
    "\n",
    "import ast"
   ]
  },
  {
   "cell_type": "code",
   "execution_count": 95,
   "metadata": {},
   "outputs": [],
   "source": [
    "# FOR YOU\n",
    "import boto3\n",
    "import io\n",
    "s3 = boto3.client('s3')\n",
    "obj = s3.get_object(Bucket='bt-data-science-playground', Key='bt-tv-recommendation-system/output/StaticData_ForYou.csv')\n",
    "df = pd.read_csv(io.BytesIO(obj['Body'].read()), sep='\\t')"
   ]
  },
  {
   "cell_type": "code",
   "execution_count": 96,
   "metadata": {},
   "outputs": [
    {
     "data": {
      "text/html": [
       "<div>\n",
       "<style scoped>\n",
       "    .dataframe tbody tr th:only-of-type {\n",
       "        vertical-align: middle;\n",
       "    }\n",
       "\n",
       "    .dataframe tbody tr th {\n",
       "        vertical-align: top;\n",
       "    }\n",
       "\n",
       "    .dataframe thead th {\n",
       "        text-align: right;\n",
       "    }\n",
       "</style>\n",
       "<table border=\"1\" class=\"dataframe\">\n",
       "  <thead>\n",
       "    <tr style=\"text-align: right;\">\n",
       "      <th></th>\n",
       "      <th>user</th>\n",
       "      <th>recommendations</th>\n",
       "    </tr>\n",
       "  </thead>\n",
       "  <tbody>\n",
       "    <tr>\n",
       "      <th>0</th>\n",
       "      <td>BBEU00021416</td>\n",
       "      <td>{'movida_1979': {'score': 1.0, 'type': 'BRAND'...</td>\n",
       "    </tr>\n",
       "    <tr>\n",
       "      <th>1</th>\n",
       "      <td>BBEU00029503</td>\n",
       "      <td>{'movida_57700': {'score': 0.6580191850662231,...</td>\n",
       "    </tr>\n",
       "  </tbody>\n",
       "</table>\n",
       "</div>"
      ],
      "text/plain": [
       "           user                                    recommendations\n",
       "0  BBEU00021416  {'movida_1979': {'score': 1.0, 'type': 'BRAND'...\n",
       "1  BBEU00029503  {'movida_57700': {'score': 0.6580191850662231,..."
      ]
     },
     "execution_count": 96,
     "metadata": {},
     "output_type": "execute_result"
    }
   ],
   "source": [
    "df.head()"
   ]
  },
  {
   "cell_type": "code",
   "execution_count": 109,
   "metadata": {},
   "outputs": [],
   "source": [
    "# put top 50 recs for each row\n",
    "for index, row in df.iterrows():\n",
    "    tmp = ast.literal_eval(row['recommendations'])\n",
    "    row['recommendations'] = {k: tmp[k] for k in list(tmp)[:50]}"
   ]
  },
  {
   "cell_type": "code",
   "execution_count": 115,
   "metadata": {},
   "outputs": [
    {
     "data": {
      "text/plain": [
       "dict"
      ]
     },
     "execution_count": 115,
     "metadata": {},
     "output_type": "execute_result"
    }
   ],
   "source": [
    "type(df['recommendations'][0]) "
   ]
  },
  {
   "cell_type": "code",
   "execution_count": 117,
   "metadata": {},
   "outputs": [],
   "source": [
    "#df['recommendations'] = df['recommendations'].apply(lambda x: json.dumps(ast.literal_eval(x)))\n",
    "df['recommendations'] = df['recommendations'].apply(lambda x: json.dumps(x)) # if already a dict"
   ]
  },
  {
   "cell_type": "code",
   "execution_count": 118,
   "metadata": {},
   "outputs": [
    {
     "data": {
      "text/html": [
       "<div>\n",
       "<style scoped>\n",
       "    .dataframe tbody tr th:only-of-type {\n",
       "        vertical-align: middle;\n",
       "    }\n",
       "\n",
       "    .dataframe tbody tr th {\n",
       "        vertical-align: top;\n",
       "    }\n",
       "\n",
       "    .dataframe thead th {\n",
       "        text-align: right;\n",
       "    }\n",
       "</style>\n",
       "<table border=\"1\" class=\"dataframe\">\n",
       "  <thead>\n",
       "    <tr style=\"text-align: right;\">\n",
       "      <th></th>\n",
       "      <th>user</th>\n",
       "      <th>recommendations</th>\n",
       "    </tr>\n",
       "  </thead>\n",
       "  <tbody>\n",
       "    <tr>\n",
       "      <th>0</th>\n",
       "      <td>BBEU00021416</td>\n",
       "      <td>{\"movida_1979\": {\"score\": 1.0, \"type\": \"BRAND\"...</td>\n",
       "    </tr>\n",
       "    <tr>\n",
       "      <th>1</th>\n",
       "      <td>BBEU00029503</td>\n",
       "      <td>{\"movida_57700\": {\"score\": 0.6580191850662231,...</td>\n",
       "    </tr>\n",
       "  </tbody>\n",
       "</table>\n",
       "</div>"
      ],
      "text/plain": [
       "           user                                    recommendations\n",
       "0  BBEU00021416  {\"movida_1979\": {\"score\": 1.0, \"type\": \"BRAND\"...\n",
       "1  BBEU00029503  {\"movida_57700\": {\"score\": 0.6580191850662231,..."
      ]
     },
     "execution_count": 118,
     "metadata": {},
     "output_type": "execute_result"
    }
   ],
   "source": [
    "df.head()"
   ]
  },
  {
   "cell_type": "code",
   "execution_count": 119,
   "metadata": {},
   "outputs": [
    {
     "data": {
      "text/plain": [
       "str"
      ]
     },
     "execution_count": 119,
     "metadata": {},
     "output_type": "execute_result"
    }
   ],
   "source": [
    "type(df['recommendations'][0]) # str but with double quotes like a json"
   ]
  },
  {
   "cell_type": "code",
   "execution_count": 121,
   "metadata": {},
   "outputs": [
    {
     "data": {
      "text/plain": [
       "{'ResponseMetadata': {'RequestId': '12BDF034AF5BC2ED',\n",
       "  'HostId': 'OXeGLoZCwWHO22Kkko9/5Y3Q3sYr3HM9aJUWM1yzddox5F1cW3eWnEglq+giam8Zw23nf4kgucc=',\n",
       "  'HTTPStatusCode': 200,\n",
       "  'HTTPHeaders': {'x-amz-id-2': 'OXeGLoZCwWHO22Kkko9/5Y3Q3sYr3HM9aJUWM1yzddox5F1cW3eWnEglq+giam8Zw23nf4kgucc=',\n",
       "   'x-amz-request-id': '12BDF034AF5BC2ED',\n",
       "   'date': 'Fri, 06 Nov 2020 12:26:05 GMT',\n",
       "   'x-amz-server-side-encryption': 'AES256',\n",
       "   'etag': '\"9d7f0f03680e2c9220486b781f8081ac\"',\n",
       "   'content-length': '0',\n",
       "   'server': 'AmazonS3'},\n",
       "  'RetryAttempts': 0},\n",
       " 'ETag': '\"9d7f0f03680e2c9220486b781f8081ac\"',\n",
       " 'ServerSideEncryption': 'AES256'}"
      ]
     },
     "execution_count": 121,
     "metadata": {},
     "output_type": "execute_result"
    }
   ],
   "source": [
    "from io import StringIO # python3; python2: BytesIO \n",
    "import boto3\n",
    "import csv\n",
    "\n",
    "bucket = 'bt-data-science-playground' # already created on S3\n",
    "csv_buffer = StringIO()\n",
    "df.to_csv(csv_buffer, sep='\\t', index=False, quoting=csv.QUOTE_NONE)\n",
    "s3_resource = boto3.resource('s3')\n",
    "s3_resource.Object(bucket, 'bt-tv-recommendation-system/output/foryou/StaticData_ForYou_jsonRec.csv').put(Body=csv_buffer.getvalue())"
   ]
  },
  {
   "cell_type": "code",
   "execution_count": 123,
   "metadata": {},
   "outputs": [],
   "source": [
    "# MORE LIKE THIS\n",
    "import boto3\n",
    "import io\n",
    "s3 = boto3.client('s3')\n",
    "obj = s3.get_object(Bucket='bt-data-science-playground', Key='bt-tv-recommendation-system/output/StaticData_MoreLikeThis.csv')\n",
    "df = pd.read_csv(io.BytesIO(obj['Body'].read()), sep='\\t')"
   ]
  },
  {
   "cell_type": "code",
   "execution_count": 124,
   "metadata": {},
   "outputs": [
    {
     "data": {
      "text/html": [
       "<div>\n",
       "<style scoped>\n",
       "    .dataframe tbody tr th:only-of-type {\n",
       "        vertical-align: middle;\n",
       "    }\n",
       "\n",
       "    .dataframe tbody tr th {\n",
       "        vertical-align: top;\n",
       "    }\n",
       "\n",
       "    .dataframe thead th {\n",
       "        text-align: right;\n",
       "    }\n",
       "</style>\n",
       "<table border=\"1\" class=\"dataframe\">\n",
       "  <thead>\n",
       "    <tr style=\"text-align: right;\">\n",
       "      <th></th>\n",
       "      <th>content</th>\n",
       "      <th>recommendations</th>\n",
       "    </tr>\n",
       "  </thead>\n",
       "  <tbody>\n",
       "    <tr>\n",
       "      <th>0</th>\n",
       "      <td>BBJ316737HVOD</td>\n",
       "      <td>{'BBJ316737HVOD': {'score': 0.8738770484924316...</td>\n",
       "    </tr>\n",
       "    <tr>\n",
       "      <th>1</th>\n",
       "      <td>BBJ316779IOC</td>\n",
       "      <td>{'BBJ316779IOC': {'score': 0.955123245716095, ...</td>\n",
       "    </tr>\n",
       "  </tbody>\n",
       "</table>\n",
       "</div>"
      ],
      "text/plain": [
       "         content                                    recommendations\n",
       "0  BBJ316737HVOD  {'BBJ316737HVOD': {'score': 0.8738770484924316...\n",
       "1   BBJ316779IOC  {'BBJ316779IOC': {'score': 0.955123245716095, ..."
      ]
     },
     "execution_count": 124,
     "metadata": {},
     "output_type": "execute_result"
    }
   ],
   "source": [
    "df.head()"
   ]
  },
  {
   "cell_type": "code",
   "execution_count": 125,
   "metadata": {},
   "outputs": [],
   "source": [
    "# put top 50 recs for each row\n",
    "for index, row in df.iterrows():\n",
    "    tmp = ast.literal_eval(row['recommendations'])\n",
    "    row['recommendations'] = {k: tmp[k] for k in list(tmp)[:50]}"
   ]
  },
  {
   "cell_type": "code",
   "execution_count": 126,
   "metadata": {},
   "outputs": [],
   "source": [
    "#df['recommendations'] = df['recommendations'].apply(lambda x: json.dumps(ast.literal_eval(x)))\n",
    "df['recommendations'] = df['recommendations'].apply(lambda x: json.dumps(x)) # if already a dict"
   ]
  },
  {
   "cell_type": "code",
   "execution_count": 127,
   "metadata": {},
   "outputs": [
    {
     "data": {
      "text/html": [
       "<div>\n",
       "<style scoped>\n",
       "    .dataframe tbody tr th:only-of-type {\n",
       "        vertical-align: middle;\n",
       "    }\n",
       "\n",
       "    .dataframe tbody tr th {\n",
       "        vertical-align: top;\n",
       "    }\n",
       "\n",
       "    .dataframe thead th {\n",
       "        text-align: right;\n",
       "    }\n",
       "</style>\n",
       "<table border=\"1\" class=\"dataframe\">\n",
       "  <thead>\n",
       "    <tr style=\"text-align: right;\">\n",
       "      <th></th>\n",
       "      <th>content</th>\n",
       "      <th>recommendations</th>\n",
       "    </tr>\n",
       "  </thead>\n",
       "  <tbody>\n",
       "    <tr>\n",
       "      <th>0</th>\n",
       "      <td>BBJ316737HVOD</td>\n",
       "      <td>{\"BBJ316737HVOD\": {\"score\": 0.8738770484924316...</td>\n",
       "    </tr>\n",
       "    <tr>\n",
       "      <th>1</th>\n",
       "      <td>BBJ316779IOC</td>\n",
       "      <td>{\"BBJ316779IOC\": {\"score\": 0.955123245716095, ...</td>\n",
       "    </tr>\n",
       "  </tbody>\n",
       "</table>\n",
       "</div>"
      ],
      "text/plain": [
       "         content                                    recommendations\n",
       "0  BBJ316737HVOD  {\"BBJ316737HVOD\": {\"score\": 0.8738770484924316...\n",
       "1   BBJ316779IOC  {\"BBJ316779IOC\": {\"score\": 0.955123245716095, ..."
      ]
     },
     "execution_count": 127,
     "metadata": {},
     "output_type": "execute_result"
    }
   ],
   "source": [
    "df.head()"
   ]
  },
  {
   "cell_type": "code",
   "execution_count": 128,
   "metadata": {},
   "outputs": [
    {
     "data": {
      "text/plain": [
       "str"
      ]
     },
     "execution_count": 128,
     "metadata": {},
     "output_type": "execute_result"
    }
   ],
   "source": [
    "type(df.iloc[1,1])"
   ]
  },
  {
   "cell_type": "code",
   "execution_count": 129,
   "metadata": {},
   "outputs": [
    {
     "data": {
      "text/plain": [
       "{'ResponseMetadata': {'RequestId': '9CEE0993E6DB1F3F',\n",
       "  'HostId': 'VE7pmE4ipevwua+AQr7R5VZ6PTG7sf8HZMCKncHAz49xMyXBXRe0/ahKRfI0ejqgq4h40Yj09g4=',\n",
       "  'HTTPStatusCode': 200,\n",
       "  'HTTPHeaders': {'x-amz-id-2': 'VE7pmE4ipevwua+AQr7R5VZ6PTG7sf8HZMCKncHAz49xMyXBXRe0/ahKRfI0ejqgq4h40Yj09g4=',\n",
       "   'x-amz-request-id': '9CEE0993E6DB1F3F',\n",
       "   'date': 'Fri, 06 Nov 2020 12:28:07 GMT',\n",
       "   'x-amz-server-side-encryption': 'AES256',\n",
       "   'etag': '\"27d383657db850753854c6ebfb9d78b9\"',\n",
       "   'content-length': '0',\n",
       "   'server': 'AmazonS3'},\n",
       "  'RetryAttempts': 0},\n",
       " 'ETag': '\"27d383657db850753854c6ebfb9d78b9\"',\n",
       " 'ServerSideEncryption': 'AES256'}"
      ]
     },
     "execution_count": 129,
     "metadata": {},
     "output_type": "execute_result"
    }
   ],
   "source": [
    "from io import StringIO # python3; python2: BytesIO \n",
    "import boto3\n",
    "import csv\n",
    "\n",
    "bucket = 'bt-data-science-playground' # already created on S3\n",
    "csv_buffer = StringIO()\n",
    "df.to_csv(csv_buffer, sep='\\t', index=False, quoting=csv.QUOTE_NONE)\n",
    "s3_resource = boto3.resource('s3')\n",
    "s3_resource.Object(bucket, 'bt-tv-recommendation-system/output/morelikethis/StaticData_MoreLikeThis_jsonRec.csv').put(Body=csv_buffer.getvalue())"
   ]
  },
  {
   "cell_type": "code",
   "execution_count": null,
   "metadata": {},
   "outputs": [],
   "source": []
  }
 ],
 "metadata": {
  "kernelspec": {
   "display_name": "conda_python3",
   "language": "python",
   "name": "conda_python3"
  },
  "language_info": {
   "codemirror_mode": {
    "name": "ipython",
    "version": 3
   },
   "file_extension": ".py",
   "mimetype": "text/x-python",
   "name": "python",
   "nbconvert_exporter": "python",
   "pygments_lexer": "ipython3",
   "version": "3.6.10"
  }
 },
 "nbformat": 4,
 "nbformat_minor": 4
}
