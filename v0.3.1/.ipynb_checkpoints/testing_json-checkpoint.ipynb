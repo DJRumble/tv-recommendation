{
 "cells": [
  {
   "cell_type": "code",
   "execution_count": 1,
   "metadata": {},
   "outputs": [],
   "source": [
    "import commendaroo.data_transformer.model_data as mdt\n",
    "\n",
    "from scipy import sparse\n",
    "import implicit\n",
    "from datetime import datetime\n",
    "from sklearn.preprocessing import MinMaxScaler\n",
    "import numpy as np\n",
    "import pandas as pd\n",
    "import json\n",
    "\n",
    "from aws_tools.cloudwatch_logging import logger\n",
    "from aws_tools.project_config import get_aws_config"
   ]
  },
  {
   "cell_type": "code",
   "execution_count": 2,
   "metadata": {},
   "outputs": [
    {
     "name": "stderr",
     "output_type": "stream",
     "text": [
      "2021-01-15 10:44:48,607 [INFO ]  Getting the data\n",
      "2021-01-15 10:44:48,608 [INFO ]  Creating views tables\n",
      "2021-01-15 10:46:00,237 [INFO ]  Creating purchases/rentals/PPVs tables\n",
      "2021-01-15 10:46:30,746 [INFO ]  Loading views data\n",
      "2021-01-15 10:46:30,747 [INFO ]  starting Athena query ...\n",
      "2021-01-15 10:53:40,150 [INFO ]  loading ee41db3d-5989-4f34-af81-f2d100d83a71.csv\n",
      "2021-01-15 11:00:29,237 [INFO ]  Athena query complete: returning dataframe\n",
      "2021-01-15 11:00:29,239 [INFO ]  Loading purchases/rentals/PPVs data\n",
      "2021-01-15 11:00:29,240 [INFO ]  starting Athena query ...\n",
      "2021-01-15 11:00:32,627 [INFO ]  loading a22f4060-8a65-4c05-a213-44be95636a08.csv\n",
      "2021-01-15 11:00:33,515 [INFO ]  Athena query complete: returning dataframe\n",
      "2021-01-15 11:00:46,557 [INFO ]  Data implicit loaded\n",
      "2021-01-15 11:01:12,051 [INFO ]  Aggregate seasons into brands\n",
      "2021-01-15 11:03:50,482 [INFO ]  Prepping data for implicit model\n"
     ]
    }
   ],
   "source": [
    "data = mdt.get_data()"
   ]
  },
  {
   "cell_type": "code",
   "execution_count": 4,
   "metadata": {},
   "outputs": [
    {
     "name": "stderr",
     "output_type": "stream",
     "text": [
      "2021-01-15 11:05:24,902 [INFO ]  Training the model...\n",
      "2021-01-15 11:05:32,142 [WARNI]  OpenBLAS detected. Its highly recommend to set the environment variable 'export OPENBLAS_NUM_THREADS=1' to disable its internal multithreading\n"
     ]
    },
    {
     "data": {
      "application/vnd.jupyter.widget-view+json": {
       "model_id": "0a7f84ac73e6422eab68dd84413fb3f9",
       "version_major": 2,
       "version_minor": 0
      },
      "text/plain": [
       "HBox(children=(FloatProgress(value=0.0, max=50.0), HTML(value='')))"
      ]
     },
     "metadata": {},
     "output_type": "display_data"
    },
    {
     "name": "stdout",
     "output_type": "stream",
     "text": [
      "\n"
     ]
    }
   ],
   "source": [
    "def create_model(data_implicit):\n",
    "    '''\n",
    "    '''\n",
    "    \n",
    "    logger.info('Training the model...')\n",
    "    \n",
    "    sparse_content_person = sparse.csr_matrix(\n",
    "        (data_implicit['eventStrength'].astype(float), (data_implicit['id_editorial_simple'], data_implicit['id_user_simple']))\n",
    "    )\n",
    "    \n",
    "    model = implicit.als.AlternatingLeastSquares(factors=30, regularization=0.1, iterations=50, use_gpu = False)\n",
    "    alpha = 15\n",
    "    data_tofit = (sparse_content_person * alpha).astype('double')\n",
    "    model.fit(data_tofit)\n",
    "    \n",
    "    return model\n",
    "\n",
    "model = create_model(data)"
   ]
  },
  {
   "cell_type": "code",
   "execution_count": 5,
   "metadata": {},
   "outputs": [],
   "source": [
    "def more_like_this(content_id, content_vecs, content_norms, availability, id_editorial_list, id_editorial_simple_list, type_production_list):\n",
    "    \n",
    "    scores = content_vecs.dot(content_vecs[content_id,:])  / (content_norms * content_vecs[content_id,:].sum()) # i.e. calculating cosine similarity, (A.B) / (|A| x |B|) --> |B| just a constant so effectively won't need it\n",
    "    \n",
    "    scores =  MinMaxScaler().fit_transform(scores.reshape(-1,1))[:,0]\n",
    "    \n",
    "    # make zero the content no longer avilable\n",
    "    scores = scores * availability\n",
    "    \n",
    "    similar = sorted(zip(id_editorial_list, scores[id_editorial_simple_list], type_production_list), key=lambda x: -x[1])\n",
    "    \n",
    "    con_id = similar[0][0]\n",
    "    \n",
    "    return similar[1:21], con_id # return 20, skipping first (i.e. itself)\n",
    "    \n",
    "def for_you(person_id, sparse_person_content, content_vecs_T, person_vecs, availability, id_editorial_list, id_editorial_simple_list, type_production_list, id_user_list, id_user_simple_list):\n",
    "\n",
    "    # Get the interactions scores from the sparse person content matrix\n",
    "    person_interactions = sparse_person_content[person_id,:].toarray()\n",
    "\n",
    "    # Add 1 to everything, so that articles with no interaction yet become equal to 1\n",
    "    person_interactions = person_interactions.reshape(-1) + 1\n",
    "\n",
    "    # Make articles already interacted zero\n",
    "    person_interactions[person_interactions > 1] = 0\n",
    "\n",
    "    # Get dot product of person vector and all content vectors\n",
    "    rec_vector = person_vecs[person_id,:].dot(content_vecs_T)\n",
    "\n",
    "    rec_vector = MinMaxScaler().fit_transform(rec_vector.reshape(-1,1))[:,0]\n",
    "\n",
    "    # Multiply by zero the scores of items already interacted with\n",
    "    recommend_vector = person_interactions * rec_vector\n",
    "    \n",
    "    # make zero the content no longer avilable\n",
    "    recommend_vector = recommend_vector * availability\n",
    "    \n",
    "    recs = sorted(zip(id_editorial_list, recommend_vector[id_editorial_simple_list], type_production_list), key=lambda x: -x[1])\n",
    "    \n",
    "    user_id = id_user_list[id_user_simple_list.index(person_id)]\n",
    "    \n",
    "    return recs[:50], user_id"
   ]
  },
  {
   "cell_type": "code",
   "execution_count": 7,
   "metadata": {},
   "outputs": [
    {
     "name": "stderr",
     "output_type": "stream",
     "text": [
      "2021-01-15 11:07:47,755 [INFO ]  Creating recommendations...\n"
     ]
    }
   ],
   "source": [
    "logger.info('Creating recommendations...')\n",
    "\n",
    "id_editorial_legend = data[['id_editorial', 'id_editorial_simple', 'type_production', 'end_date']].drop_duplicates(subset=['id_editorial', 'id_editorial_simple']).sort_values(by='id_editorial_simple')\n",
    "\n",
    "id_editorial_simple_list = id_editorial_legend['id_editorial_simple'].tolist()\n",
    "id_editorial_list = id_editorial_legend['id_editorial'].tolist()\n",
    "type_production_list = id_editorial_legend['type_production'].tolist()\n",
    "\n",
    "# get array with 1 or 0 based on availability of content today\n",
    "availability = id_editorial_legend['end_date'] > datetime.today().strftime('%Y-%m-%d')\n",
    "availability = np.array(availability.astype(int))\n",
    "\n",
    "\n",
    "id_user_legend = data[['id_user', 'id_user_simple']].drop_duplicates(subset=['id_user', 'id_user_simple']).sort_values(by='id_user_simple')\n",
    "id_user_simple_list = id_user_legend['id_user_simple'].tolist()\n",
    "id_user_list = id_user_legend['id_user'].tolist()\n",
    "\n",
    "date_today = datetime.today().strftime('%Y-%m-%d')\n",
    "code_version = get_aws_config('model_parameters.json')['code_version']\n",
    "\n",
    "\n",
    "sparse_content_person = sparse.csr_matrix(\n",
    "    (data['eventStrength'].astype(float), (data['id_editorial_simple'], data['id_user_simple']))\n",
    ")\n",
    "sparse_person_content = sparse.csr_matrix(\n",
    "    (data['eventStrength'].astype(float), (data['id_user_simple'], data['id_editorial_simple']))\n",
    ")"
   ]
  },
  {
   "cell_type": "code",
   "execution_count": 17,
   "metadata": {},
   "outputs": [
    {
     "data": {
      "text/plain": [
       "Timestamp('2021-01-13 23:59:58')"
      ]
     },
     "execution_count": 17,
     "metadata": {},
     "output_type": "execute_result"
    }
   ],
   "source": [
    "data['event_date'].max()"
   ]
  },
  {
   "cell_type": "code",
   "execution_count": 14,
   "metadata": {},
   "outputs": [
    {
     "name": "stderr",
     "output_type": "stream",
     "text": [
      "2021-01-15 11:10:08,191 [INFO ]  More Like This\n"
     ]
    }
   ],
   "source": [
    "### More Like This   \n",
    "logger.info('More Like This')\n",
    "content_vecs = model.item_factors\n",
    "\n",
    "content_norms = np.sqrt((content_vecs * content_vecs).sum(axis=1)) # i.e. calculating abs. value of the vector of each item -->  |A|\n",
    "\n",
    "data_update_date =  {\n",
    "    'view' : data[data['type_entitlement'] == 'VIEW']['event_date'].max(),\n",
    "    'purchase' : data[data['type_entitlement'] == 'EVOD']['event_date'].max(),\n",
    "    'rental' : data[data['type_entitlement'] == 'TVOD']['event_date'].max()\n",
    "}\n",
    "\n",
    "# create the output for dynamoDB table\n",
    "output = []\n",
    "\n",
    "for index, i in enumerate(id_editorial_simple_list[:1000]): \n",
    "\n",
    "    if availability[index] == 1: # check if content is available otherwise those recommendations will be wrong due to having multiplied scores by zero for unavailable content\n",
    "\n",
    "        recs, con_id = more_like_this(i, content_vecs, content_norms, availability, id_editorial_list, id_editorial_simple_list, type_production_list)\n",
    "        \n",
    "        #{\"BBJ1810496A\": {\"score\": 1.0, \"type\": \"PROGRAM\", \"s_dt\": \"2020-12-23\", \"c_v\": \"0.3\"}, \"movida_10030641\": {\"scor\n",
    "                                                                                                                   \n",
    "        rec_guids = []\n",
    "        for r in recs:\n",
    "\n",
    "            rec_guids.append({\n",
    "                'guid' : r[0],\n",
    "                'score' : round(float(r[1]), 5),\n",
    "                'type' : r[2]\n",
    "            })\n",
    "        \n",
    "        output_rec = {'score_date' : date_today, 'data_update_date' : data_update_date, 'code_version' : code_version, 'recommendations' : rec_guids}\n",
    "\n",
    "        output.append([con_id, output_rec])\n",
    "\n",
    "output_morelikethis = pd.DataFrame(output,columns=['content','recommendations'])\n",
    "\n",
    "output_morelikethis['recommendations'] = output_morelikethis['recommendations'].apply(lambda x: json.dumps(x)) # if already a dict\n",
    "\n",
    "# remove any duplicates; these can still occur if some content has exactly the same watch history as other and gets most similar item itself and other stuff too\n",
    "output_morelikethis = output_morelikethis.drop_duplicates(subset=['content']).reset_index(drop=True)"
   ]
  },
  {
   "cell_type": "code",
   "execution_count": 16,
   "metadata": {},
   "outputs": [
    {
     "data": {
      "text/plain": [
       "'{\"s_dt\": \"2021-01-15\", \"c_v\": \"0.3\", \"recommendations\": [{\"guid\": \"BBJ836608HVOD\", \"score\": 0.96913, \"type\": \"PROGRAM\"}, {\"guid\": \"BBJ1228941A\", \"score\": 0.96774, \"type\": \"PROGRAM\"}, {\"guid\": \"BBJ1143404HVOD\", \"score\": 0.96256, \"type\": \"PROGRAM\"}, {\"guid\": \"BBJ889806HVOD\", \"score\": 0.95924, \"type\": \"PROGRAM\"}, {\"guid\": \"BBJ836611HVOD\", \"score\": 0.95896, \"type\": \"PROGRAM\"}, {\"guid\": \"BBJ2280844A\", \"score\": 0.95827, \"type\": \"PROGRAM\"}, {\"guid\": \"BBJ1288045A\", \"score\": 0.95013, \"type\": \"PROGRAM\"}, {\"guid\": \"BBJ336327HVOD\", \"score\": 0.95004, \"type\": \"PROGRAM\"}, {\"guid\": \"BBJ398491HVOD\", \"score\": 0.94787, \"type\": \"PROGRAM\"}, {\"guid\": \"BBJ332222HVOD\", \"score\": 0.94764, \"type\": \"PROGRAM\"}, {\"guid\": \"BBJ1083223HVOD\", \"score\": 0.94759, \"type\": \"PROGRAM\"}, {\"guid\": \"BBJ314806HVOD\", \"score\": 0.94368, \"type\": \"PROGRAM\"}, {\"guid\": \"BBJ374917HVOD\", \"score\": 0.94306, \"type\": \"PROGRAM\"}, {\"guid\": \"BBJ889811HVOD\", \"score\": 0.94183, \"type\": \"PROGRAM\"}, {\"guid\": \"BBJ319479HVOD\", \"score\": 0.94053, \"type\": \"PROGRAM\"}, {\"guid\": \"BBJ870666HVOD\", \"score\": 0.93976, \"type\": \"PROGRAM\"}, {\"guid\": \"BBJ339350HVOD\", \"score\": 0.93976, \"type\": \"PROGRAM\"}, {\"guid\": \"BBJ928983HVOD\", \"score\": 0.93802, \"type\": \"PROGRAM\"}, {\"guid\": \"BBJ1028117HVOD\", \"score\": 0.93718, \"type\": \"PROGRAM\"}, {\"guid\": \"BBJ314824HVOD\", \"score\": 0.93545, \"type\": \"PROGRAM\"}]}'"
      ]
     },
     "execution_count": 16,
     "metadata": {},
     "output_type": "execute_result"
    }
   ],
   "source": [
    "output_morelikethis.iloc[0,1]"
   ]
  },
  {
   "cell_type": "code",
   "execution_count": 15,
   "metadata": {},
   "outputs": [
    {
     "data": {
      "text/html": [
       "<div>\n",
       "<style scoped>\n",
       "    .dataframe tbody tr th:only-of-type {\n",
       "        vertical-align: middle;\n",
       "    }\n",
       "\n",
       "    .dataframe tbody tr th {\n",
       "        vertical-align: top;\n",
       "    }\n",
       "\n",
       "    .dataframe thead th {\n",
       "        text-align: right;\n",
       "    }\n",
       "</style>\n",
       "<table border=\"1\" class=\"dataframe\">\n",
       "  <thead>\n",
       "    <tr style=\"text-align: right;\">\n",
       "      <th></th>\n",
       "      <th>content</th>\n",
       "      <th>recommendations</th>\n",
       "    </tr>\n",
       "  </thead>\n",
       "  <tbody>\n",
       "    <tr>\n",
       "      <th>0</th>\n",
       "      <td>BBJ1003714HVOD</td>\n",
       "      <td>{\"s_dt\": \"2021-01-15\", \"c_v\": \"0.3\", \"recommen...</td>\n",
       "    </tr>\n",
       "    <tr>\n",
       "      <th>1</th>\n",
       "      <td>BBJ1009533HVOD</td>\n",
       "      <td>{\"s_dt\": \"2021-01-15\", \"c_v\": \"0.3\", \"recommen...</td>\n",
       "    </tr>\n",
       "    <tr>\n",
       "      <th>2</th>\n",
       "      <td>BBJ1009538HVOD</td>\n",
       "      <td>{\"s_dt\": \"2021-01-15\", \"c_v\": \"0.3\", \"recommen...</td>\n",
       "    </tr>\n",
       "    <tr>\n",
       "      <th>3</th>\n",
       "      <td>BBJ1009541HVOD</td>\n",
       "      <td>{\"s_dt\": \"2021-01-15\", \"c_v\": \"0.3\", \"recommen...</td>\n",
       "    </tr>\n",
       "    <tr>\n",
       "      <th>4</th>\n",
       "      <td>BBJ1009544HVOD</td>\n",
       "      <td>{\"s_dt\": \"2021-01-15\", \"c_v\": \"0.3\", \"recommen...</td>\n",
       "    </tr>\n",
       "  </tbody>\n",
       "</table>\n",
       "</div>"
      ],
      "text/plain": [
       "          content                                    recommendations\n",
       "0  BBJ1003714HVOD  {\"s_dt\": \"2021-01-15\", \"c_v\": \"0.3\", \"recommen...\n",
       "1  BBJ1009533HVOD  {\"s_dt\": \"2021-01-15\", \"c_v\": \"0.3\", \"recommen...\n",
       "2  BBJ1009538HVOD  {\"s_dt\": \"2021-01-15\", \"c_v\": \"0.3\", \"recommen...\n",
       "3  BBJ1009541HVOD  {\"s_dt\": \"2021-01-15\", \"c_v\": \"0.3\", \"recommen...\n",
       "4  BBJ1009544HVOD  {\"s_dt\": \"2021-01-15\", \"c_v\": \"0.3\", \"recommen..."
      ]
     },
     "execution_count": 15,
     "metadata": {},
     "output_type": "execute_result"
    }
   ],
   "source": [
    "output_morelikethis.head()"
   ]
  },
  {
   "cell_type": "code",
   "execution_count": null,
   "metadata": {},
   "outputs": [],
   "source": [
    "### For You\n",
    "logger.info('For You')\n",
    "content_vecs_T = model.item_factors.T\n",
    "person_vecs = model.user_factors\n",
    "\n",
    "# create the output for dynamoDB table\n",
    "output = []\n",
    "\n",
    "users_tech_trial = [\n",
    "    'V3006126692',\n",
    "    'V3007158774',\n",
    "    'V3009295704',\n",
    "    'V3000606445',\n",
    "    'V2283739102',\n",
    "    'V2200004307',\n",
    "    'V3009378451',\n",
    "    'V3009436446',\n",
    "    'V1000019727',\n",
    "    'V3008138884',\n",
    "    'V3003052251',\n",
    "    'V3008613163',\n",
    "    'V3578624855',\n",
    "    'V3000143118',\n",
    "    'V2200007285',\n",
    "    'V3000163582'\n",
    "]\n",
    "# turn the VSID of the tech trail list to simple user ids\n",
    "users_tech_trial_simple = [int(data[data['id_user'] == x]['id_user_simple'].iloc[0]) for x in users_tech_trial if x in id_user_list]\n",
    "\n",
    "for i in users_tech_trial_simple:#id_user_simple_list[:1000]: \n",
    "\n",
    "    recs, user_id = for_you(i, sparse_person_content, content_vecs_T, person_vecs, availability, id_editorial_list, id_editorial_simple_list, type_production_list, id_user_list, id_user_simple_list)\n",
    "\n",
    "    output_rec = {}\n",
    "    for r in recs:\n",
    "\n",
    "        output_rec[r[0]] = {\n",
    "            'score' : round(float(r[1]), 5),\n",
    "            'type' : r[2],\n",
    "            's_dt' : date_today,\n",
    "            'c_v' : code_version\n",
    "        }\n",
    "\n",
    "    output.append([user_id, output_rec])\n",
    "\n",
    "output_foryou = pd.DataFrame(output,columns=['user','recommendations'])\n",
    "\n",
    "output_foryou['recommendations'] = output_foryou['recommendations'].apply(lambda x: json.dumps(x)) # if already a dict"
   ]
  }
 ],
 "metadata": {
  "kernelspec": {
   "display_name": "conda_python3",
   "language": "python",
   "name": "conda_python3"
  },
  "language_info": {
   "codemirror_mode": {
    "name": "ipython",
    "version": 3
   },
   "file_extension": ".py",
   "mimetype": "text/x-python",
   "name": "python",
   "nbconvert_exporter": "python",
   "pygments_lexer": "ipython3",
   "version": "3.6.10"
  }
 },
 "nbformat": 4,
 "nbformat_minor": 4
}
