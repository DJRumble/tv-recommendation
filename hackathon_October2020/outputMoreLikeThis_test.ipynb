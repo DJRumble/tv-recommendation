{
 "cells": [
  {
   "cell_type": "code",
   "execution_count": 22,
   "metadata": {},
   "outputs": [],
   "source": [
    "import boto3\n",
    "boto_client = boto3.setup_default_session(region_name='eu-west-1')"
   ]
  },
  {
   "cell_type": "code",
   "execution_count": 23,
   "metadata": {},
   "outputs": [],
   "source": [
    "def create_MoreLikeThis_table(dynamodb=None):\n",
    "    if not dynamodb:\n",
    "        dynamodb = boto3.resource('dynamodb')\n",
    "\n",
    "    table = dynamodb.create_table(\n",
    "        TableName='MoreLikeThis',\n",
    "        KeySchema=[\n",
    "            {\n",
    "                'AttributeName': 'item_id',\n",
    "                'KeyType': 'HASH'  # Partition key\n",
    "            }\n",
    "        ],\n",
    "        AttributeDefinitions=[\n",
    "            {\n",
    "                'AttributeName': 'item_id',\n",
    "                'AttributeType': 'S'\n",
    "            },\n",
    "\n",
    "        ],\n",
    "        ProvisionedThroughput={\n",
    "            'ReadCapacityUnits': 10,\n",
    "            'WriteCapacityUnits': 10\n",
    "        }\n",
    "    )\n",
    "    return table"
   ]
  },
  {
   "cell_type": "code",
   "execution_count": 24,
   "metadata": {},
   "outputs": [],
   "source": [
    "MoreLikeThis_table = create_MoreLikeThis_table()"
   ]
  },
  {
   "cell_type": "code",
   "execution_count": 4,
   "metadata": {},
   "outputs": [],
   "source": [
    "def put_recs(item_id, recs_list, type_list, score_list, dynamodb=None):\n",
    "    if not dynamodb:\n",
    "        dynamodb = boto3.resource('dynamodb')\n",
    "\n",
    "    table = dynamodb.Table('MoreLikeThis')\n",
    "    response = table.put_item(\n",
    "       Item={\n",
    "           'item_id': item_id,\n",
    "           'item_recs': recs_list,\n",
    "           'item_type' : type_list,\n",
    "           'item_score' : score_list\n",
    "        }\n",
    "    )\n",
    "    return response"
   ]
  },
  {
   "cell_type": "code",
   "execution_count": 18,
   "metadata": {},
   "outputs": [],
   "source": [
    "recs_resp = put_recs(\n",
    "    'movida_52859',\n",
    "    ['BBJ2550316A'] * 20 ,\n",
    "    ['PROGRAM'] * 20,\n",
    "    list(reversed(range(20)))\n",
    ")"
   ]
  },
  {
   "cell_type": "code",
   "execution_count": 6,
   "metadata": {},
   "outputs": [],
   "source": [
    "from botocore.exceptions import ClientError"
   ]
  },
  {
   "cell_type": "code",
   "execution_count": 11,
   "metadata": {},
   "outputs": [],
   "source": [
    "def get_recs(item_id, dynamodb=None):\n",
    "    if not dynamodb:\n",
    "        dynamodb = boto3.resource('dynamodb')\n",
    "\n",
    "    table = dynamodb.Table('MoreLikeThis')\n",
    "\n",
    "    try:\n",
    "        response = table.get_item(Key={'item_id': item_id})\n",
    "    except ClientError as e:\n",
    "        print(e.response['Error']['Message'])\n",
    "    else:\n",
    "        return response['Item']"
   ]
  },
  {
   "cell_type": "code",
   "execution_count": 19,
   "metadata": {},
   "outputs": [
    {
     "name": "stdout",
     "output_type": "stream",
     "text": [
      "Get rec succeeded:\n",
      "{'item_score': [Decimal('19'), Decimal('18'), Decimal('17'), Decimal('16'), Decimal('15'), Decimal('14'), Decimal('13'), Decimal('12'), Decimal('11'), Decimal('10'), Decimal('9'), Decimal('8'), Decimal('7'), Decimal('6'), Decimal('5'), Decimal('4'), Decimal('3'), Decimal('2'), Decimal('1'), Decimal('0')], 'item_id': 'movida_52859', 'item_recs': ['BBJ2550316A', 'BBJ2550316A', 'BBJ2550316A', 'BBJ2550316A', 'BBJ2550316A', 'BBJ2550316A', 'BBJ2550316A', 'BBJ2550316A', 'BBJ2550316A', 'BBJ2550316A', 'BBJ2550316A', 'BBJ2550316A', 'BBJ2550316A', 'BBJ2550316A', 'BBJ2550316A', 'BBJ2550316A', 'BBJ2550316A', 'BBJ2550316A', 'BBJ2550316A', 'BBJ2550316A'], 'item_type': ['PROGRAM', 'PROGRAM', 'PROGRAM', 'PROGRAM', 'PROGRAM', 'PROGRAM', 'PROGRAM', 'PROGRAM', 'PROGRAM', 'PROGRAM', 'PROGRAM', 'PROGRAM', 'PROGRAM', 'PROGRAM', 'PROGRAM', 'PROGRAM', 'PROGRAM', 'PROGRAM', 'PROGRAM', 'PROGRAM']}\n"
     ]
    }
   ],
   "source": [
    "rec = get_recs('movida_52859')\n",
    "if rec:\n",
    "    print(\"Get rec succeeded:\")\n",
    "    print(rec)"
   ]
  },
  {
   "cell_type": "code",
   "execution_count": 23,
   "metadata": {},
   "outputs": [],
   "source": [
    "from decimal import Decimal"
   ]
  },
  {
   "cell_type": "code",
   "execution_count": 15,
   "metadata": {},
   "outputs": [],
   "source": [
    "def update_recs(item_id, recs_list, type_list, score_list, dynamodb=None):\n",
    "    if not dynamodb:\n",
    "        dynamodb = boto3.resource('dynamodb')\n",
    "\n",
    "    table = dynamodb.Table('MoreLikeThis')\n",
    "\n",
    "    response = table.update_item(\n",
    "        Key={\n",
    "            'item_id': item_id,\n",
    "            },\n",
    "        UpdateExpression=\"set item_recs=:r, item_type=:t, item_score=:s\",\n",
    "        ExpressionAttributeValues={\n",
    "            ':r': recs_list,\n",
    "            ':t': type_list,\n",
    "            ':s': score_list\n",
    "        },\n",
    "        ReturnValues=\"UPDATED_NEW\"\n",
    "    )\n",
    "    return response"
   ]
  },
  {
   "cell_type": "code",
   "execution_count": 17,
   "metadata": {},
   "outputs": [
    {
     "name": "stdout",
     "output_type": "stream",
     "text": [
      "Update recs succeeded:\n",
      "{'Attributes': {'item_score': [Decimal('19'), Decimal('18'), Decimal('17'), Decimal('16'), Decimal('15'), Decimal('14'), Decimal('13'), Decimal('12'), Decimal('11'), Decimal('10'), Decimal('9'), Decimal('8'), Decimal('7'), Decimal('6'), Decimal('5'), Decimal('4'), Decimal('3'), Decimal('2'), Decimal('1'), Decimal('0')], 'item_recs': ['BBJ2550316B', 'BBJ2550316B', 'BBJ2550316B', 'BBJ2550316B', 'BBJ2550316B', 'BBJ2550316B', 'BBJ2550316B', 'BBJ2550316B', 'BBJ2550316B', 'BBJ2550316B', 'BBJ2550316B', 'BBJ2550316B', 'BBJ2550316B', 'BBJ2550316B', 'BBJ2550316B', 'BBJ2550316B', 'BBJ2550316B', 'BBJ2550316B', 'BBJ2550316B', 'BBJ2550316B'], 'item_type': ['PROGRAM', 'PROGRAM', 'PROGRAM', 'PROGRAM', 'PROGRAM', 'PROGRAM', 'PROGRAM', 'PROGRAM', 'PROGRAM', 'PROGRAM', 'PROGRAM', 'PROGRAM', 'PROGRAM', 'PROGRAM', 'PROGRAM', 'PROGRAM', 'PROGRAM', 'PROGRAM', 'PROGRAM', 'PROGRAM']}, 'ResponseMetadata': {'RequestId': 'E0G0ICCVBE9MI9HIHEESACHC0VVV4KQNSO5AEMVJF66Q9ASUAAJG', 'HTTPStatusCode': 200, 'HTTPHeaders': {'server': 'Server', 'date': 'Wed, 07 Oct 2020 09:19:06 GMT', 'content-type': 'application/x-amz-json-1.0', 'content-length': '1007', 'connection': 'keep-alive', 'x-amzn-requestid': 'E0G0ICCVBE9MI9HIHEESACHC0VVV4KQNSO5AEMVJF66Q9ASUAAJG', 'x-amz-crc32': '4185960284'}, 'RetryAttempts': 0}}\n",
      "['BBJ2550316B', 'BBJ2550316B', 'BBJ2550316B', 'BBJ2550316B', 'BBJ2550316B', 'BBJ2550316B', 'BBJ2550316B', 'BBJ2550316B', 'BBJ2550316B', 'BBJ2550316B', 'BBJ2550316B', 'BBJ2550316B', 'BBJ2550316B', 'BBJ2550316B', 'BBJ2550316B', 'BBJ2550316B', 'BBJ2550316B', 'BBJ2550316B', 'BBJ2550316B', 'BBJ2550316B']\n"
     ]
    }
   ],
   "source": [
    "update_response = update_recs(\n",
    "    'movida_52859',\n",
    "    ['BBJ2550316B'] * 20 ,\n",
    "    ['PROGRAM'] * 20,\n",
    "    list(reversed(range(20)))\n",
    ")\n",
    "print(\"Update recs succeeded:\")\n",
    "print(update_response)\n",
    "print(update_response['Attributes']['item_recs'])"
   ]
  },
  {
   "cell_type": "code",
   "execution_count": null,
   "metadata": {},
   "outputs": [],
   "source": []
  }
 ],
 "metadata": {
  "kernelspec": {
   "display_name": "conda_python3",
   "language": "python",
   "name": "conda_python3"
  },
  "language_info": {
   "codemirror_mode": {
    "name": "ipython",
    "version": 3
   },
   "file_extension": ".py",
   "mimetype": "text/x-python",
   "name": "python",
   "nbconvert_exporter": "python",
   "pygments_lexer": "ipython3",
   "version": "3.6.10"
  }
 },
 "nbformat": 4,
 "nbformat_minor": 4
}
