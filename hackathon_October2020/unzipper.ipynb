{
 "cells": [
  {
   "cell_type": "code",
   "execution_count": 8,
   "metadata": {},
   "outputs": [],
   "source": [
    "import boto3\n",
    "from io import BytesIO\n",
    "import zipfile"
   ]
  },
  {
   "cell_type": "code",
   "execution_count": 9,
   "metadata": {},
   "outputs": [],
   "source": [
    "s3_resource = boto3.resource('s3')\n",
    "zip_obj = s3_resource.Object(bucket_name=\"bttv-cha-poc-s3-minihack-rcmd\", key='historicalviews_v0.2.zip')\n",
    "buffer = BytesIO(zip_obj.get()[\"Body\"].read())\n",
    "\n",
    "z = zipfile.ZipFile(buffer)\n",
    "for filename in z.namelist():\n",
    "    file_info = z.getinfo(filename)\n",
    "    s3_resource.meta.client.upload_fileobj(\n",
    "        z.open(filename),\n",
    "        Bucket=\"bttv-cha-poc-s3-minihack-rcmd\",\n",
    "        Key=f'{filename}'\n",
    "    )"
   ]
  },
  {
   "cell_type": "code",
   "execution_count": 10,
   "metadata": {},
   "outputs": [],
   "source": [
    "import pandas as pd"
   ]
  },
  {
   "cell_type": "code",
   "execution_count": 12,
   "metadata": {},
   "outputs": [
    {
     "name": "stderr",
     "output_type": "stream",
     "text": [
      "/home/ec2-user/anaconda3/envs/python3/lib/python3.6/site-packages/IPython/core/interactiveshell.py:3063: DtypeWarning: Columns (8,9) have mixed types.Specify dtype option on import or set low_memory=False.\n",
      "  interactivity=interactivity, compiler=compiler, result=result)\n"
     ]
    }
   ],
   "source": [
    "data_views = pd.read_csv('s3://bttv-cha-poc-s3-minihack-rcmd/historicalviews_v0.2.csv')"
   ]
  },
  {
   "cell_type": "code",
   "execution_count": 13,
   "metadata": {},
   "outputs": [
    {
     "data": {
      "text/html": [
       "<div>\n",
       "<style scoped>\n",
       "    .dataframe tbody tr th:only-of-type {\n",
       "        vertical-align: middle;\n",
       "    }\n",
       "\n",
       "    .dataframe tbody tr th {\n",
       "        vertical-align: top;\n",
       "    }\n",
       "\n",
       "    .dataframe thead th {\n",
       "        text-align: right;\n",
       "    }\n",
       "</style>\n",
       "<table border=\"1\" class=\"dataframe\">\n",
       "  <thead>\n",
       "    <tr style=\"text-align: right;\">\n",
       "      <th></th>\n",
       "      <th>ID_USER</th>\n",
       "      <th>TYPE_SLOT</th>\n",
       "      <th>TYPE_ASSET</th>\n",
       "      <th>VIEW_DATE</th>\n",
       "      <th>TITLE</th>\n",
       "      <th>TYPE</th>\n",
       "      <th>END_DATE</th>\n",
       "      <th>ID_EDITORIAL</th>\n",
       "      <th>GENRE</th>\n",
       "      <th>RATING</th>\n",
       "    </tr>\n",
       "  </thead>\n",
       "  <tbody>\n",
       "    <tr>\n",
       "      <th>0</th>\n",
       "      <td>BBEU32029145</td>\n",
       "      <td>Feature</td>\n",
       "      <td>episode</td>\n",
       "      <td>2019-06-29 16:09:09</td>\n",
       "      <td>Teen Titans Go! Series 3</td>\n",
       "      <td>season</td>\n",
       "      <td>2020-06-27 14:59:00</td>\n",
       "      <td>movida_10008002</td>\n",
       "      <td>6 Years +</td>\n",
       "      <td>u</td>\n",
       "    </tr>\n",
       "    <tr>\n",
       "      <th>1</th>\n",
       "      <td>BBEU29937057</td>\n",
       "      <td>Feature</td>\n",
       "      <td>episode</td>\n",
       "      <td>2019-06-29 08:27:09</td>\n",
       "      <td>Teen Titans Go! Series 3</td>\n",
       "      <td>season</td>\n",
       "      <td>2020-06-27 14:59:00</td>\n",
       "      <td>movida_10008002</td>\n",
       "      <td>6 Years +</td>\n",
       "      <td>u</td>\n",
       "    </tr>\n",
       "    <tr>\n",
       "      <th>2</th>\n",
       "      <td>BBEU33421092</td>\n",
       "      <td>Feature</td>\n",
       "      <td>episode</td>\n",
       "      <td>2019-06-29 18:38:24</td>\n",
       "      <td>Teen Titans Go! Series 3</td>\n",
       "      <td>season</td>\n",
       "      <td>2020-06-27 14:59:00</td>\n",
       "      <td>movida_10008002</td>\n",
       "      <td>6 Years +</td>\n",
       "      <td>u</td>\n",
       "    </tr>\n",
       "    <tr>\n",
       "      <th>3</th>\n",
       "      <td>BBEU18833349</td>\n",
       "      <td>Feature</td>\n",
       "      <td>episode</td>\n",
       "      <td>2019-06-29 16:22:29</td>\n",
       "      <td>Teen Titans Go! Series 3</td>\n",
       "      <td>season</td>\n",
       "      <td>2020-06-27 14:59:00</td>\n",
       "      <td>movida_10008002</td>\n",
       "      <td>6 Years +</td>\n",
       "      <td>u</td>\n",
       "    </tr>\n",
       "    <tr>\n",
       "      <th>4</th>\n",
       "      <td>BBEU27799836</td>\n",
       "      <td>Feature</td>\n",
       "      <td>episode</td>\n",
       "      <td>2019-06-29 08:11:53</td>\n",
       "      <td>Teen Titans Go! Series 3</td>\n",
       "      <td>season</td>\n",
       "      <td>2020-06-27 14:59:00</td>\n",
       "      <td>movida_10008002</td>\n",
       "      <td>6 Years +</td>\n",
       "      <td>u</td>\n",
       "    </tr>\n",
       "  </tbody>\n",
       "</table>\n",
       "</div>"
      ],
      "text/plain": [
       "        ID_USER TYPE_SLOT TYPE_ASSET            VIEW_DATE  \\\n",
       "0  BBEU32029145   Feature    episode  2019-06-29 16:09:09   \n",
       "1  BBEU29937057   Feature    episode  2019-06-29 08:27:09   \n",
       "2  BBEU33421092   Feature    episode  2019-06-29 18:38:24   \n",
       "3  BBEU18833349   Feature    episode  2019-06-29 16:22:29   \n",
       "4  BBEU27799836   Feature    episode  2019-06-29 08:11:53   \n",
       "\n",
       "                      TITLE    TYPE             END_DATE     ID_EDITORIAL  \\\n",
       "0  Teen Titans Go! Series 3  season  2020-06-27 14:59:00  movida_10008002   \n",
       "1  Teen Titans Go! Series 3  season  2020-06-27 14:59:00  movida_10008002   \n",
       "2  Teen Titans Go! Series 3  season  2020-06-27 14:59:00  movida_10008002   \n",
       "3  Teen Titans Go! Series 3  season  2020-06-27 14:59:00  movida_10008002   \n",
       "4  Teen Titans Go! Series 3  season  2020-06-27 14:59:00  movida_10008002   \n",
       "\n",
       "       GENRE RATING  \n",
       "0  6 Years +      u  \n",
       "1  6 Years +      u  \n",
       "2  6 Years +      u  \n",
       "3  6 Years +      u  \n",
       "4  6 Years +      u  "
      ]
     },
     "execution_count": 13,
     "metadata": {},
     "output_type": "execute_result"
    }
   ],
   "source": [
    "data_views.head()"
   ]
  },
  {
   "cell_type": "code",
   "execution_count": null,
   "metadata": {},
   "outputs": [],
   "source": []
  }
 ],
 "metadata": {
  "kernelspec": {
   "display_name": "conda_python3",
   "language": "python",
   "name": "conda_python3"
  },
  "language_info": {
   "codemirror_mode": {
    "name": "ipython",
    "version": 3
   },
   "file_extension": ".py",
   "mimetype": "text/x-python",
   "name": "python",
   "nbconvert_exporter": "python",
   "pygments_lexer": "ipython3",
   "version": "3.6.10"
  }
 },
 "nbformat": 4,
 "nbformat_minor": 4
}
