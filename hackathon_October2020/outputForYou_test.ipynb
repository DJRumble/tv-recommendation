{
 "cells": [
  {
   "cell_type": "code",
   "execution_count": 27,
   "metadata": {},
   "outputs": [],
   "source": [
    "import boto3\n",
    "boto_client = boto3.setup_default_session(region_name='eu-west-1')"
   ]
  },
  {
   "cell_type": "code",
   "execution_count": 28,
   "metadata": {},
   "outputs": [],
   "source": [
    "def create_ForYou_table(dynamodb=None):\n",
    "    if not dynamodb:\n",
    "        dynamodb = boto3.resource('dynamodb')\n",
    "\n",
    "    table = dynamodb.create_table(\n",
    "        TableName='ForYou',\n",
    "        KeySchema=[\n",
    "            {\n",
    "                'AttributeName': 'user_id',\n",
    "                'KeyType': 'HASH'  # Partition key\n",
    "            }\n",
    "        ],\n",
    "        AttributeDefinitions=[\n",
    "            {\n",
    "                'AttributeName': 'user_id',\n",
    "                'AttributeType': 'S'\n",
    "            },\n",
    "\n",
    "        ],\n",
    "        ProvisionedThroughput={\n",
    "            'ReadCapacityUnits': 10,\n",
    "            'WriteCapacityUnits': 10\n",
    "        }\n",
    "    )\n",
    "    return table"
   ]
  },
  {
   "cell_type": "code",
   "execution_count": 29,
   "metadata": {},
   "outputs": [],
   "source": [
    "ForYou_table = create_ForYou_table()"
   ]
  },
  {
   "cell_type": "code",
   "execution_count": 32,
   "metadata": {},
   "outputs": [],
   "source": [
    "def put_recs(user_id, recs_list, type_list, score_list, dynamodb=None):\n",
    "    if not dynamodb:\n",
    "        dynamodb = boto3.resource('dynamodb')\n",
    "\n",
    "    table = dynamodb.Table('ForYou')\n",
    "    response = table.put_item(\n",
    "       Item={\n",
    "           'user_id': user_id,\n",
    "           'item_id': recs_list,\n",
    "           'item_type' : type_list,\n",
    "           'item_score' : score_list\n",
    "        }\n",
    "    )\n",
    "    return response"
   ]
  },
  {
   "cell_type": "code",
   "execution_count": 33,
   "metadata": {},
   "outputs": [],
   "source": [
    "recs_resp = put_recs(\n",
    "    'BBEU00021416',\n",
    "    ['movida_52859'] * 20 ,\n",
    "    ['BRAND'] * 20,\n",
    "    list(reversed(range(20)))\n",
    ")"
   ]
  },
  {
   "cell_type": "code",
   "execution_count": 5,
   "metadata": {},
   "outputs": [],
   "source": [
    "from botocore.exceptions import ClientError"
   ]
  },
  {
   "cell_type": "code",
   "execution_count": 34,
   "metadata": {},
   "outputs": [],
   "source": [
    "def get_recs(user_id, dynamodb=None):\n",
    "    if not dynamodb:\n",
    "        dynamodb = boto3.resource('dynamodb')\n",
    "\n",
    "    table = dynamodb.Table('ForYou')\n",
    "\n",
    "    try:\n",
    "        response = table.get_item(Key={'user_id': user_id})\n",
    "    except ClientError as e:\n",
    "        print(e.response['Error']['Message'])\n",
    "    else:\n",
    "        return response['Item']"
   ]
  },
  {
   "cell_type": "code",
   "execution_count": 35,
   "metadata": {},
   "outputs": [
    {
     "name": "stdout",
     "output_type": "stream",
     "text": [
      "Get rec succeeded:\n",
      "{'user_id': 'BBEU00021416', 'item_score': [Decimal('0.975629627704620361328125'), Decimal('0.971547305583953857421875'), Decimal('0.963755428791046142578125'), Decimal('0.955491244792938232421875'), Decimal('0.953596591949462890625'), Decimal('0.9420344829559326171875'), Decimal('0.932163894176483154296875'), Decimal('0.92504155635833740234375'), Decimal('0.915787756443023681640625'), Decimal('0.91529560089111328125'), Decimal('0.914229333400726318359375'), Decimal('0.9124252796173095703125'), Decimal('0.9094946384429931640625'), Decimal('0.904664814472198486328125'), Decimal('0.9028618335723876953125'), Decimal('0.902654230594635009765625'), Decimal('0.89556944370269775390625'), Decimal('0.891643464565277099609375'), Decimal('0.890914976596832275390625'), Decimal('0.88853418827056884765625')], 'item_id': ['BBJ956271HVOD', 'BBJ956277HVOD', 'BBJ956273HVOD', 'BBJ956275HVOD', 'BBJ956287HVOD', 'BBJ374920HVOD', 'BBJ1621565A', 'BBJ269926HVOD', 'movida_10027073', 'BBJ2366579A', 'BBJ316698HVOD', 'BBJ1769219A', 'BBJ1714884A', 'BBJ269878HVOD', 'BBJ374923HVOD', 'BBJ956294HVOD', 'BBJ1620056A', 'BBJ2417987A', 'BBJ1708699A', 'BBJ374599HVOD'], 'item_type': ['PROGRAM', 'PROGRAM', 'PROGRAM', 'PROGRAM', 'PROGRAM', 'PROGRAM', 'PROGRAM', 'PROGRAM', 'COLLECTION', 'PROGRAM', 'PROGRAM', 'PROGRAM', 'PROGRAM', 'PROGRAM', 'PROGRAM', 'PROGRAM', 'PROGRAM', 'PROGRAM', 'PROGRAM', 'PROGRAM']}\n"
     ]
    }
   ],
   "source": [
    "rec = get_recs('BBEU00021416')\n",
    "if rec:\n",
    "    print(\"Get rec succeeded:\")\n",
    "    print(rec)"
   ]
  },
  {
   "cell_type": "code",
   "execution_count": 41,
   "metadata": {},
   "outputs": [
    {
     "data": {
      "text/plain": [
       "[('PROGRAM', 'BBJ956271HVOD'),\n",
       " ('PROGRAM', 'BBJ956277HVOD'),\n",
       " ('PROGRAM', 'BBJ956273HVOD'),\n",
       " ('PROGRAM', 'BBJ956275HVOD'),\n",
       " ('PROGRAM', 'BBJ956287HVOD'),\n",
       " ('PROGRAM', 'BBJ374920HVOD'),\n",
       " ('PROGRAM', 'BBJ1621565A'),\n",
       " ('PROGRAM', 'BBJ269926HVOD'),\n",
       " ('COLLECTION', 'movida_10027073'),\n",
       " ('PROGRAM', 'BBJ2366579A'),\n",
       " ('PROGRAM', 'BBJ316698HVOD'),\n",
       " ('PROGRAM', 'BBJ1769219A'),\n",
       " ('PROGRAM', 'BBJ1714884A'),\n",
       " ('PROGRAM', 'BBJ269878HVOD'),\n",
       " ('PROGRAM', 'BBJ374923HVOD'),\n",
       " ('PROGRAM', 'BBJ956294HVOD'),\n",
       " ('PROGRAM', 'BBJ1620056A'),\n",
       " ('PROGRAM', 'BBJ2417987A'),\n",
       " ('PROGRAM', 'BBJ1708699A'),\n",
       " ('PROGRAM', 'BBJ374599HVOD')]"
      ]
     },
     "execution_count": 41,
     "metadata": {},
     "output_type": "execute_result"
    }
   ],
   "source": [
    "list(zip(rec['item_type'],rec['item_id']))"
   ]
  },
  {
   "cell_type": "code",
   "execution_count": 40,
   "metadata": {},
   "outputs": [
    {
     "data": {
      "text/plain": [
       "['PROGRAM',\n",
       " 'PROGRAM',\n",
       " 'PROGRAM',\n",
       " 'PROGRAM',\n",
       " 'PROGRAM',\n",
       " 'PROGRAM',\n",
       " 'PROGRAM',\n",
       " 'PROGRAM',\n",
       " 'COLLECTION',\n",
       " 'PROGRAM',\n",
       " 'PROGRAM',\n",
       " 'PROGRAM',\n",
       " 'PROGRAM',\n",
       " 'PROGRAM',\n",
       " 'PROGRAM',\n",
       " 'PROGRAM',\n",
       " 'PROGRAM',\n",
       " 'PROGRAM',\n",
       " 'PROGRAM',\n",
       " 'PROGRAM']"
      ]
     },
     "execution_count": 40,
     "metadata": {},
     "output_type": "execute_result"
    }
   ],
   "source": [
    "rec['item_type']"
   ]
  },
  {
   "cell_type": "code",
   "execution_count": 39,
   "metadata": {},
   "outputs": [
    {
     "data": {
      "text/plain": [
       "['BBJ956271HVOD',\n",
       " 'BBJ956277HVOD',\n",
       " 'BBJ956273HVOD',\n",
       " 'BBJ956275HVOD',\n",
       " 'BBJ956287HVOD',\n",
       " 'BBJ374920HVOD',\n",
       " 'BBJ1621565A',\n",
       " 'BBJ269926HVOD',\n",
       " 'movida_10027073',\n",
       " 'BBJ2366579A',\n",
       " 'BBJ316698HVOD',\n",
       " 'BBJ1769219A',\n",
       " 'BBJ1714884A',\n",
       " 'BBJ269878HVOD',\n",
       " 'BBJ374923HVOD',\n",
       " 'BBJ956294HVOD',\n",
       " 'BBJ1620056A',\n",
       " 'BBJ2417987A',\n",
       " 'BBJ1708699A',\n",
       " 'BBJ374599HVOD']"
      ]
     },
     "execution_count": 39,
     "metadata": {},
     "output_type": "execute_result"
    }
   ],
   "source": [
    "rec['item_id']"
   ]
  },
  {
   "cell_type": "code",
   "execution_count": 23,
   "metadata": {},
   "outputs": [],
   "source": [
    "from decimal import Decimal"
   ]
  },
  {
   "cell_type": "code",
   "execution_count": 31,
   "metadata": {},
   "outputs": [],
   "source": [
    "def update_recs(user_id, recs_list, dynamodb=None):\n",
    "    if not dynamodb:\n",
    "        dynamodb = boto3.resource('dynamodb')\n",
    "\n",
    "    table = dynamodb.Table('ForYou')\n",
    "\n",
    "    response = table.update_item(\n",
    "        Key={\n",
    "            'user_id': user_id,\n",
    "            },\n",
    "        UpdateExpression=\"set recs=:r\",\n",
    "        ExpressionAttributeValues={\n",
    "            ':r': recs_list\n",
    "        },\n",
    "        ReturnValues=\"UPDATED_NEW\"\n",
    "    )\n",
    "    return response"
   ]
  },
  {
   "cell_type": "code",
   "execution_count": 33,
   "metadata": {},
   "outputs": [
    {
     "name": "stdout",
     "output_type": "stream",
     "text": [
      "Update recs succeeded:\n",
      "{'Attributes': {'recs': ['a', 'b', 'd']}, 'ResponseMetadata': {'RequestId': 'RHLRPJ0TLIOVIK3GMA5CFO75PRVV4KQNSO5AEMVJF66Q9ASUAAJG', 'HTTPStatusCode': 200, 'HTTPHeaders': {'server': 'Server', 'date': 'Tue, 06 Oct 2020 13:14:50 GMT', 'content-type': 'application/x-amz-json-1.0', 'content-length': '61', 'connection': 'keep-alive', 'x-amzn-requestid': 'RHLRPJ0TLIOVIK3GMA5CFO75PRVV4KQNSO5AEMVJF66Q9ASUAAJG', 'x-amz-crc32': '1678182544'}, 'RetryAttempts': 0}}\n",
      "['a', 'b', 'd']\n"
     ]
    }
   ],
   "source": [
    "update_response = update_recs('22', ['a', 'b', 'd'])\n",
    "print(\"Update recs succeeded:\")\n",
    "print(update_response)\n",
    "print(update_response['Attributes']['recs'])"
   ]
  },
  {
   "cell_type": "code",
   "execution_count": null,
   "metadata": {},
   "outputs": [],
   "source": []
  }
 ],
 "metadata": {
  "kernelspec": {
   "display_name": "conda_python3",
   "language": "python",
   "name": "conda_python3"
  },
  "language_info": {
   "codemirror_mode": {
    "name": "ipython",
    "version": 3
   },
   "file_extension": ".py",
   "mimetype": "text/x-python",
   "name": "python",
   "nbconvert_exporter": "python",
   "pygments_lexer": "ipython3",
   "version": "3.6.10"
  }
 },
 "nbformat": 4,
 "nbformat_minor": 4
}
