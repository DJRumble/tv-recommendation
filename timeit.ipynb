{
 "cells": [
  {
   "cell_type": "code",
   "execution_count": 1,
   "id": "architectural-worker",
   "metadata": {},
   "outputs": [
    {
     "data": {
      "text/plain": [
       "{'divide': 'warn', 'over': 'warn', 'under': 'ignore', 'invalid': 'warn'}"
      ]
     },
     "execution_count": 1,
     "metadata": {},
     "output_type": "execute_result"
    }
   ],
   "source": [
    "import commendaroo.data_transformer.model_data as mdt\n",
    "\n",
    "from scipy import sparse\n",
    "import implicit\n",
    "from datetime import datetime\n",
    "from sklearn.preprocessing import MinMaxScaler\n",
    "from sklearn.feature_extraction.text import CountVectorizer\n",
    "import numpy as np\n",
    "import pandas as pd\n",
    "import json\n",
    "import os\n",
    "import boto3\n",
    "import tensorflow_hub as hub\n",
    "\n",
    "from aws_tools.cloudwatch_logging import logger\n",
    "from aws_tools.project_config import get_aws_config\n",
    "\n",
    "np.seterr(divide='ignore', invalid='ignore') # to avoid divide by nan warning (genre in music is nan)"
   ]
  },
  {
   "cell_type": "code",
   "execution_count": 2,
   "id": "front-favorite",
   "metadata": {},
   "outputs": [],
   "source": [
    "def create_model(data_implicit):\n",
    "    '''\n",
    "    '''\n",
    "    \n",
    "    logger.info('Training the model...')\n",
    "    \n",
    "    sparse_content_person = sparse.csr_matrix(\n",
    "        (data_implicit['eventStrength'].astype(float), (data_implicit['id_editorial_simple'], data_implicit['id_user_simple']))\n",
    "    )\n",
    "    \n",
    "    model = implicit.als.AlternatingLeastSquares(factors=30, regularization=0.1, iterations=50, use_gpu = False)\n",
    "    alpha = 15\n",
    "    data_tofit = (sparse_content_person * alpha).astype('double')\n",
    "    model.fit(data_tofit)\n",
    "    \n",
    "    return model"
   ]
  },
  {
   "cell_type": "code",
   "execution_count": 3,
   "id": "three-miracle",
   "metadata": {},
   "outputs": [
    {
     "name": "stderr",
     "output_type": "stream",
     "text": [
      "2021-03-23 09:50:10,461 [INFO ]  Getting the data\n",
      "2021-03-23 09:50:10,461 [INFO ]  Creating views tables\n",
      "2021-03-23 09:51:38,181 [INFO ]  Creating purchases/rentals/PPVs tables\n",
      "2021-03-23 09:52:08,621 [INFO ]  Loading views data\n",
      "2021-03-23 09:52:08,621 [INFO ]  starting Athena query ...\n",
      "2021-03-23 09:59:38,796 [INFO ]  loading 3f5bd93d-179c-41f7-9461-af54f5c7fec5.csv\n",
      "2021-03-23 10:09:30,343 [INFO ]  Athena query complete: returning dataframe\n",
      "2021-03-23 10:09:30,466 [INFO ]  Loading purchases/rentals/PPVs data\n",
      "2021-03-23 10:09:30,466 [INFO ]  starting Athena query ...\n",
      "2021-03-23 10:10:18,665 [INFO ]  loading 6d86b36e-3166-4118-9919-a597a651dc7b.csv\n",
      "2021-03-23 10:10:33,365 [INFO ]  Athena query complete: returning dataframe\n",
      "2021-03-23 10:10:52,324 [INFO ]  Data implicit loaded\n",
      "2021-03-23 10:10:52,326 [INFO ]  Aggregate seasons into brands\n",
      "2021-03-23 10:11:19,256 [INFO ]  Season-to-brand update query failed - rolling up with existing season-to-brand map\n",
      "2021-03-23 10:12:24,880 [INFO ]  Prepping data for implicit model\n",
      "2021-03-23 10:12:24,881 [INFO ]  Assigning event strength\n",
      "2021-03-23 10:12:41,196 [INFO ]  Create For You logic to hide already seen content based on different time windows\n",
      "2021-03-23 10:51:44,136 [INFO ]  Turning PEGI rating into numeric\n",
      "2021-03-23 10:51:58,316 [INFO ]  Assigning type PROGRAM/COLLECTION/BRAND\n",
      "2021-03-23 10:52:05,530 [INFO ]  Getting synopsis\n"
     ]
    }
   ],
   "source": [
    "data_implicit = mdt.get_data()"
   ]
  },
  {
   "cell_type": "code",
   "execution_count": 4,
   "id": "compatible-frame",
   "metadata": {},
   "outputs": [
    {
     "name": "stderr",
     "output_type": "stream",
     "text": [
      "2021-03-23 11:00:57,739 [INFO ]  Loading all metadata including for items with no history\n"
     ]
    }
   ],
   "source": [
    "data_nohist = mdt.get_data_nohist(data_implicit)"
   ]
  },
  {
   "cell_type": "code",
   "execution_count": 5,
   "id": "bizarre-record",
   "metadata": {},
   "outputs": [
    {
     "name": "stderr",
     "output_type": "stream",
     "text": [
      "2021-03-23 11:11:03,679 [INFO ]  Training the model...\n"
     ]
    },
    {
     "data": {
      "application/vnd.jupyter.widget-view+json": {
       "model_id": "c507df35b10640e9a8688c249595c9bc",
       "version_major": 2,
       "version_minor": 0
      },
      "text/plain": [
       "  0%|          | 0/50 [00:00<?, ?it/s]"
      ]
     },
     "metadata": {},
     "output_type": "display_data"
    }
   ],
   "source": [
    "model = create_model(data_implicit)"
   ]
  },
  {
   "cell_type": "code",
   "execution_count": 6,
   "id": "documentary-costs",
   "metadata": {},
   "outputs": [],
   "source": [
    "# (sorting first alphabetically by status so ACTIVE versions of same items appears first over INACTIVE versions)\n",
    "id_editorial_legend = data_implicit[['id_editorial', 'id_editorial_simple', 'type_production', 'end_date', 'start_date', 'status', 'rating_n', 'genre', 'scheduler_channel', 'synopsis', 'sub_genres']].sort_values(by=['status','sub_genres']).drop_duplicates(subset=['id_editorial', 'id_editorial_simple']).sort_values(by='id_editorial_simple')\n",
    "\n",
    "id_editorial_simple_list = id_editorial_legend['id_editorial_simple'].tolist()\n",
    "id_editorial_list = id_editorial_legend['id_editorial'].tolist()\n",
    "type_production_list = id_editorial_legend['type_production'].tolist()\n",
    "\n",
    "# get array with 1 or 0 based on availability of content today + status\n",
    "availability = (id_editorial_legend['status'] == 'ACTIVE') & (id_editorial_legend['end_date'] > datetime.today().strftime('%Y-%m-%d')) & (id_editorial_legend['start_date'] <= datetime.today().strftime('%Y-%m-%d'))\n",
    "availability = np.array(availability.astype(int))\n",
    "\n",
    "scheduler_channel = np.array(id_editorial_legend['scheduler_channel'].tolist())\n",
    "\n",
    "genre = np.array(id_editorial_legend['genre'].tolist())\n",
    "\n",
    "sub_genres = [str(x).lower().replace(' ', '').replace(',', ' ') for x in id_editorial_legend['sub_genres'].tolist()]\n",
    "\n",
    "rating = np.array(id_editorial_legend['rating_n'].tolist())\n",
    "\n",
    "synopsis = id_editorial_legend['synopsis'].tolist()\n",
    "\n",
    "\n",
    "id_user_legend = data_implicit[['id_user', 'id_user_simple']].drop_duplicates(subset=['id_user', 'id_user_simple']).sort_values(by='id_user_simple')\n",
    "id_user_simple_list = id_user_legend['id_user_simple'].tolist()\n",
    "id_user_list = id_user_legend['id_user'].tolist()\n",
    "\n",
    "date_today = datetime.today().strftime('%Y-%m-%d')\n",
    "code_version = get_aws_config('model_parameters.json')['code_version']\n",
    "\n",
    "data_update_date =  {\n",
    "    'view' : str(data_implicit[data_implicit['type_entitlement'] == 'VIEW']['event_date'].max()),\n",
    "    'purchase' : str(data_implicit[data_implicit['type_entitlement'] == 'EVOD']['event_date'].max()),\n",
    "    'rental' : str(data_implicit[data_implicit['type_entitlement'] == 'TVOD']['event_date'].max())\n",
    "}\n",
    "\n",
    "sparse_content_person = sparse.csr_matrix(\n",
    "    (data_implicit['eventStrength'].astype(float), (data_implicit['id_editorial_simple'], data_implicit['id_user_simple']))\n",
    ")\n",
    "#     sparse_person_content = sparse.csr_matrix(\n",
    "#         (data_implicit['eventStrength'].astype(float), (data_implicit['id_user_simple'], data_implicit['id_editorial_simple']))\n",
    "#     )\n",
    "sparse_person_content_hidelogic = sparse.csr_matrix(\n",
    "    (data_implicit['FY_logic'].astype(float), (data_implicit['id_user_simple'], data_implicit['id_editorial_simple']))\n",
    ")"
   ]
  },
  {
   "cell_type": "code",
   "execution_count": 7,
   "id": "swiss-pierce",
   "metadata": {},
   "outputs": [],
   "source": [
    "content_vecs_T = model.item_factors.T\n",
    "person_vecs = model.user_factors"
   ]
  },
  {
   "cell_type": "code",
   "execution_count": 11,
   "id": "optical-think",
   "metadata": {},
   "outputs": [],
   "source": [
    "person_id = 0"
   ]
  },
  {
   "cell_type": "code",
   "execution_count": 12,
   "id": "adjustable-belarus",
   "metadata": {},
   "outputs": [],
   "source": [
    "from timeit import default_timer as timer"
   ]
  },
  {
   "cell_type": "code",
   "execution_count": 33,
   "id": "relative-controversy",
   "metadata": {},
   "outputs": [],
   "source": [
    "import timeit"
   ]
  },
  {
   "cell_type": "code",
   "execution_count": 108,
   "id": "desirable-keeping",
   "metadata": {},
   "outputs": [
    {
     "name": "stdout",
     "output_type": "stream",
     "text": [
      "26.2 ms ± 2.69 ms per loop (mean ± std. dev. of 1000 runs, 1 loop each)\n"
     ]
    }
   ],
   "source": [
    "%%timeit -n 1 -r 1000\n",
    "\n",
    "### NO IMPROVEMENTS\n",
    "\n",
    "person_interactions = sparse_person_content_hidelogic[person_id,:].toarray()\n",
    "\n",
    "person_interactions = person_interactions.reshape(-1) + 1\n",
    "\n",
    "person_interactions[person_interactions > 1] = 0\n",
    "\n",
    "rec_vector = person_vecs[person_id,:].dot(content_vecs_T)\n",
    "\n",
    "rec_vector = MinMaxScaler().fit_transform(rec_vector.reshape(-1,1))[:,0]\n",
    "\n",
    "recommend_vector = person_interactions * rec_vector\n",
    "\n",
    "recommend_vector = recommend_vector * availability\n",
    "\n",
    "recs = sorted(zip(id_editorial_list, recommend_vector[id_editorial_simple_list], type_production_list), key=lambda x: -x[1])[:50]\n",
    "\n",
    "user_id = id_user_list[id_user_simple_list.index(person_id)]"
   ]
  },
  {
   "cell_type": "code",
   "execution_count": 109,
   "id": "worst-opposition",
   "metadata": {},
   "outputs": [
    {
     "name": "stdout",
     "output_type": "stream",
     "text": [
      "13.5 ms ± 816 µs per loop (mean ± std. dev. of 1000 runs, 1 loop each)\n"
     ]
    }
   ],
   "source": [
    "%%timeit -n 1 -r 1000\n",
    "\n",
    "### BETTER SORTING & SKIPPING UNNECESSARY INDEX LOADING\n",
    "\n",
    "person_interactions = sparse_person_content_hidelogic[person_id,:].toarray()\n",
    "\n",
    "person_interactions = person_interactions.reshape(-1) + 1\n",
    "\n",
    "person_interactions[person_interactions > 1] = 0\n",
    "\n",
    "rec_vector = person_vecs[person_id,:].dot(content_vecs_T)\n",
    "\n",
    "rec_vector = MinMaxScaler().fit_transform(rec_vector.reshape(-1,1))[:,0]\n",
    "\n",
    "recommend_vector = person_interactions * rec_vector\n",
    "\n",
    "recommend_vector = recommend_vector * availability\n",
    "\n",
    "order = np.argsort(-recommend_vector)[:50]\n",
    "b = recommend_vector[id_editorial_simple_list][order]\n",
    "a = np.array(id_editorial_list)[order]\n",
    "c = np.array(type_production_list)[order]\n",
    "recs = list(zip(list(a),list(b),list(c)))\n",
    "\n",
    "user_id = id_user_list[id_user_simple_list.index(person_id)]"
   ]
  },
  {
   "cell_type": "code",
   "execution_count": 111,
   "id": "chubby-withdrawal",
   "metadata": {},
   "outputs": [
    {
     "data": {
      "text/plain": [
       "51.526717557251914"
      ]
     },
     "execution_count": 111,
     "metadata": {},
     "output_type": "execute_result"
    }
   ],
   "source": [
    "13.5/26.2*100"
   ]
  },
  {
   "cell_type": "code",
   "execution_count": null,
   "id": "blessed-interstate",
   "metadata": {},
   "outputs": [],
   "source": []
  },
  {
   "cell_type": "code",
   "execution_count": null,
   "id": "concrete-cycling",
   "metadata": {},
   "outputs": [],
   "source": []
  }
 ],
 "metadata": {
  "kernelspec": {
   "display_name": "conda_python3",
   "language": "python",
   "name": "conda_python3"
  },
  "language_info": {
   "codemirror_mode": {
    "name": "ipython",
    "version": 3
   },
   "file_extension": ".py",
   "mimetype": "text/x-python",
   "name": "python",
   "nbconvert_exporter": "python",
   "pygments_lexer": "ipython3",
   "version": "3.6.13"
  }
 },
 "nbformat": 4,
 "nbformat_minor": 5
}
